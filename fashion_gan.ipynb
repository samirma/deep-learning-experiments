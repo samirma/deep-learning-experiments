{
 "cells": [
  {
   "cell_type": "code",
   "execution_count": 1,
   "metadata": {
    "collapsed": false
   },
   "outputs": [],
   "source": [
    "%matplotlib inline\n",
    "import os\n",
    "from glob import glob\n",
    "from matplotlib import pyplot\n",
    "from gan_tensorflow import NeuralNetwork\n",
    "import helper\n",
    "import tensorflow as tf"
   ]
  },
  {
   "cell_type": "code",
   "execution_count": null,
   "metadata": {
    "collapsed": false
   },
   "outputs": [
    {
     "name": "stdout",
     "output_type": "stream",
     "text": [
      "Learning from 8675 images\n"
     ]
    }
   ],
   "source": [
    "network = NeuralNetwork()\n",
    "\n",
    "batch_size = 32\n",
    "z_dim = 1000\n",
    "learning_rate = 0.0001\n",
    "beta1 = 0.5\n",
    "\n",
    "epochs = 50\n",
    "\n",
    "#135979\n",
    "\n",
    "data_dir = \"./data/135981\"\n",
    "files = glob(os.path.join(data_dir, '*.jpg'))\n",
    "dataset = helper.Dataset(files)\n",
    "\n",
    "print(\"Learning from {} images\".format(len(files)))\n"
   ]
  },
  {
   "cell_type": "code",
   "execution_count": null,
   "metadata": {
    "collapsed": false,
    "scrolled": true
   },
   "outputs": [
    {
     "name": "stdout",
     "output_type": "stream",
     "text": [
      "Training started\n"
     ]
    }
   ],
   "source": [
    "with tf.Graph().as_default():\n",
    "    network.train(epochs, batch_size, z_dim, learning_rate, beta1, dataset.get_batches,\n",
    "          dataset.shape, dataset.image_mode)\n"
   ]
  },
  {
   "cell_type": "code",
   "execution_count": null,
   "metadata": {
    "collapsed": false
   },
   "outputs": [],
   "source": []
  },
  {
   "cell_type": "code",
   "execution_count": null,
   "metadata": {
    "collapsed": true
   },
   "outputs": [],
   "source": []
  },
  {
   "cell_type": "code",
   "execution_count": null,
   "metadata": {
    "collapsed": true
   },
   "outputs": [],
   "source": []
  }
 ],
 "metadata": {
  "kernelspec": {
   "display_name": "Python 3",
   "language": "python",
   "name": "python3"
  },
  "language_info": {
   "codemirror_mode": {
    "name": "ipython",
    "version": 3
   },
   "file_extension": ".py",
   "mimetype": "text/x-python",
   "name": "python",
   "nbconvert_exporter": "python",
   "pygments_lexer": "ipython3",
   "version": "3.6.0"
  }
 },
 "nbformat": 4,
 "nbformat_minor": 2
}

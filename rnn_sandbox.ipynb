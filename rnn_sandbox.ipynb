{
 "cells": [
  {
   "cell_type": "code",
   "execution_count": 1,
   "metadata": {},
   "outputs": [
    {
     "name": "stderr",
     "output_type": "stream",
     "text": [
      "/Users/samirantonio/anaconda/envs/python3/lib/python3.6/site-packages/h5py/__init__.py:34: FutureWarning: Conversion of the second argument of issubdtype from `float` to `np.floating` is deprecated. In future, it will be treated as `np.float64 == np.dtype(float).type`.\n",
      "  from ._conv import register_converters as _register_converters\n",
      "Using TensorFlow backend.\n"
     ]
    }
   ],
   "source": [
    "import os\n",
    "import json\n",
    "import numpy as np\n",
    "import io\n",
    "from datetime import datetime\n",
    "from data_generator import DataGenerator\n",
    "from trade_env import TraderEnv\n",
    "from rnn.model_keras import NeuralNetwork\n",
    "import numpy\n",
    "import matplotlib.pyplot as plt\n",
    "from pandas import read_csv\n",
    "import math\n",
    "from keras.models import Sequential\n",
    "from keras.layers import Dense, Activation, LSTM\n",
    "from sklearn.preprocessing import MinMaxScaler"
   ]
  },
  {
   "cell_type": "code",
   "execution_count": 2,
   "metadata": {
    "collapsed": true
   },
   "outputs": [],
   "source": [
    "dt = DataGenerator(random=True, first_index=10)\n",
    "dt.rewind()"
   ]
  },
  {
   "cell_type": "code",
   "execution_count": 3,
   "metadata": {
    "collapsed": true
   },
   "outputs": [],
   "source": [
    "# integer encode input data\n",
    "def onehot_encoded (integer_encoded, char_to_int = 3):\n",
    "    # one hot encode\n",
    "    onehot_encoded = list()\n",
    "    letter = [0 for _ in range(char_to_int)]\n",
    "    letter[integer_encoded] = 1\n",
    "    onehot_encoded.append(letter)\n",
    "    \n",
    "    return onehot_encoded[0]"
   ]
  },
  {
   "cell_type": "code",
   "execution_count": 4,
   "metadata": {
    "collapsed": true
   },
   "outputs": [],
   "source": [
    "last_price = 0\n",
    "steps = 100\n",
    "def get_state(raw_state):\n",
    "    global last_price\n",
    "    list = []\n",
    "\n",
    "    price = raw_state[\"price\"]\n",
    "\n",
    "    def prepare_orders(orders, price, multi):\n",
    "        for order in orders:\n",
    "            list.append((float(order[0])/price) * multi)\n",
    "            #list.append(float(order[1]))\n",
    "\n",
    "    bids = raw_state[\"bids\"][:5]\n",
    "    asks = raw_state[\"asks\"][:5]\n",
    "    prepare_orders(bids, price, 1)\n",
    "    prepare_orders(asks, price, -1)\n",
    "\n",
    "\n",
    "    if last_price != 0:\n",
    "        list.extend([price/last_price])\n",
    "    else:\n",
    "        list.extend([0])\n",
    "        \n",
    "    last_price = price\n",
    "    \n",
    "    y = dt.get_from_index(dt.index + steps)[\"price\"]\n",
    "    \n",
    "    if y > price:\n",
    "        y = onehot_encoded(0)\n",
    "    elif y < price: \n",
    "        y = onehot_encoded(2)\n",
    "    else:\n",
    "        y = onehot_encoded(1)\n",
    "        \n",
    "    #datetime.fromtimestamp(int(state['timestamp']))\n",
    "    \n",
    "    return [list, y]\n"
   ]
  },
  {
   "cell_type": "code",
   "execution_count": 5,
   "metadata": {},
   "outputs": [
    {
     "name": "stdout",
     "output_type": "stream",
     "text": [
      "(80000, 11)\n",
      "(80000, 3)\n"
     ]
    }
   ],
   "source": [
    "trainX = []\n",
    "trainY = []\n",
    "while len(trainX) < 80000: #(dt.max_steps() - steps*3):\n",
    "    state = dt.next()\n",
    "    state = get_state(state)\n",
    "    trainX.append(state[0])\n",
    "    trainY.append(state[1])\n",
    "trainX = np.array(trainX)\n",
    "trainY = np.array(trainY)\n",
    "print(trainX.shape)\n",
    "print(trainY.shape)"
   ]
  },
  {
   "cell_type": "code",
   "execution_count": 6,
   "metadata": {
    "collapsed": true
   },
   "outputs": [],
   "source": [
    "def get_batches(data, features, batch_size, seq_length):\n",
    "    int_text = np.array(data)\n",
    "    \n",
    "    n_batches = int(len(data) / (batch_size * seq_length))\n",
    "\n",
    "    xdata = np.array(data[: n_batches * batch_size * seq_length])\n",
    "    \n",
    "    data = xdata.reshape(-1, seq_length, features)\n",
    "    \n",
    "    #step1 = xdata.reshape(batch_size, -1)\n",
    "    \n",
    "    #print (step1.shape)\n",
    "    #data = np.split(step1, n_batches, 1)\n",
    "    \n",
    "    return np.array(list(data))"
   ]
  },
  {
   "cell_type": "code",
   "execution_count": 7,
   "metadata": {},
   "outputs": [
    {
     "name": "stdout",
     "output_type": "stream",
     "text": [
      "(80000, 11)\n",
      "(1600, 50, 11)\n"
     ]
    }
   ],
   "source": [
    "print(trainX.shape)\n",
    "batch_size = 32\n",
    "seq_length = 50\n",
    "xdata = get_batches(trainX, trainX.shape[1], batch_size, seq_length)\n",
    "print(xdata.shape)"
   ]
  },
  {
   "cell_type": "code",
   "execution_count": 8,
   "metadata": {},
   "outputs": [
    {
     "name": "stdout",
     "output_type": "stream",
     "text": [
      "(80000, 3)\n",
      "(1600, 50, 3)\n"
     ]
    }
   ],
   "source": [
    "print(trainY.shape)\n",
    "ydata = get_batches(trainY, trainY.shape[1], batch_size, seq_length)\n",
    "#ydata = ydata.reshape(9900, seq_length, 3)\n",
    "print(ydata.shape)"
   ]
  },
  {
   "cell_type": "code",
   "execution_count": 9,
   "metadata": {},
   "outputs": [],
   "source": [
    "y_train_reshaped = []\n",
    "for i in range(ydata.shape[0]):\n",
    "    y_train_reshaped.append(ydata[i, -1])"
   ]
  },
  {
   "cell_type": "code",
   "execution_count": 10,
   "metadata": {},
   "outputs": [],
   "source": [
    "y_train_reshaped = np.array(y_train_reshaped)"
   ]
  },
  {
   "cell_type": "code",
   "execution_count": null,
   "metadata": {},
   "outputs": [
    {
     "name": "stdout",
     "output_type": "stream",
     "text": [
      "_________________________________________________________________\n",
      "Layer (type)                 Output Shape              Param #   \n",
      "=================================================================\n",
      "gru_1 (GRU)                  (None, 50, 11)            759       \n",
      "_________________________________________________________________\n",
      "gru_2 (GRU)                  (None, 11)                759       \n",
      "_________________________________________________________________\n",
      "dense_1 (Dense)              (None, 128)               1536      \n",
      "_________________________________________________________________\n",
      "dropout_1 (Dropout)          (None, 128)               0         \n",
      "_________________________________________________________________\n",
      "dense_2 (Dense)              (None, 64)                8256      \n",
      "_________________________________________________________________\n",
      "dropout_2 (Dropout)          (None, 64)                0         \n",
      "_________________________________________________________________\n",
      "dense_3 (Dense)              (None, 32)                2080      \n",
      "_________________________________________________________________\n",
      "dropout_3 (Dropout)          (None, 32)                0         \n",
      "_________________________________________________________________\n",
      "dense_4 (Dense)              (None, 3)                 99        \n",
      "_________________________________________________________________\n",
      "activation_1 (Activation)    (None, 3)                 0         \n",
      "=================================================================\n",
      "Total params: 13,489\n",
      "Trainable params: 13,489\n",
      "Non-trainable params: 0\n",
      "_________________________________________________________________\n"
     ]
    }
   ],
   "source": [
    "nn = NeuralNetwork(0.00001, xdata.shape[2], y_train_reshaped.shape[1], xdata.shape[1])"
   ]
  },
  {
   "cell_type": "code",
   "execution_count": null,
   "metadata": {
    "scrolled": true
   },
   "outputs": [
    {
     "name": "stdout",
     "output_type": "stream",
     "text": [
      "Train on 1120 samples, validate on 480 samples\n",
      "Epoch 1/150\n",
      "1120/1120 [==============================] - 4s 3ms/step - loss: 0.9064 - mean_absolute_error: 0.3858 - acc: 0.4982 - val_loss: 0.7270 - val_mean_absolute_error: 0.3416 - val_acc: 0.5333\n",
      "Epoch 2/150\n",
      "1120/1120 [==============================] - 2s 2ms/step - loss: 0.7714 - mean_absolute_error: 0.3419 - acc: 0.5250 - val_loss: 0.7594 - val_mean_absolute_error: 0.3324 - val_acc: 0.5333\n",
      "Epoch 3/150\n",
      "1120/1120 [==============================] - 2s 2ms/step - loss: 0.7779 - mean_absolute_error: 0.3427 - acc: 0.5375 - val_loss: 0.7143 - val_mean_absolute_error: 0.3385 - val_acc: 0.4646\n",
      "Epoch 4/150\n",
      "1120/1120 [==============================] - 2s 2ms/step - loss: 0.7747 - mean_absolute_error: 0.3434 - acc: 0.5286 - val_loss: 0.7192 - val_mean_absolute_error: 0.3322 - val_acc: 0.5333\n",
      "Epoch 5/150\n",
      "1120/1120 [==============================] - 2s 2ms/step - loss: 0.7740 - mean_absolute_error: 0.3426 - acc: 0.5027 - val_loss: 0.7213 - val_mean_absolute_error: 0.3371 - val_acc: 0.5333\n",
      "Epoch 6/150\n",
      "1120/1120 [==============================] - 3s 2ms/step - loss: 0.7644 - mean_absolute_error: 0.3406 - acc: 0.5375 - val_loss: 0.7176 - val_mean_absolute_error: 0.3398 - val_acc: 0.4646\n",
      "Epoch 7/150\n",
      "1120/1120 [==============================] - 3s 2ms/step - loss: 0.7577 - mean_absolute_error: 0.3396 - acc: 0.5179 - val_loss: 0.7151 - val_mean_absolute_error: 0.3375 - val_acc: 0.5333\n",
      "Epoch 8/150\n",
      " 672/1120 [=================>............] - ETA: 0s - loss: 0.7723 - mean_absolute_error: 0.3420 - acc: 0.5342"
     ]
    }
   ],
   "source": [
    "nn.train(xdata, y_train_reshaped)"
   ]
  },
  {
   "cell_type": "code",
   "execution_count": null,
   "metadata": {},
   "outputs": [],
   "source": [
    "dt.index"
   ]
  }
 ],
 "metadata": {
  "kernelspec": {
   "display_name": "Python 3",
   "language": "python",
   "name": "python3"
  },
  "language_info": {
   "codemirror_mode": {
    "name": "ipython",
    "version": 3
   },
   "file_extension": ".py",
   "mimetype": "text/x-python",
   "name": "python",
   "nbconvert_exporter": "python",
   "pygments_lexer": "ipython3",
   "version": "3.6.1"
  }
 },
 "nbformat": 4,
 "nbformat_minor": 2
}

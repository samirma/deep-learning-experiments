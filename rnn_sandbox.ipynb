{
 "cells": [
  {
   "cell_type": "code",
   "execution_count": 1,
   "metadata": {},
   "outputs": [
    {
     "name": "stderr",
     "output_type": "stream",
     "text": [
      "/Users/samirantonio/anaconda/envs/python3/lib/python3.6/site-packages/h5py/__init__.py:34: FutureWarning: Conversion of the second argument of issubdtype from `float` to `np.floating` is deprecated. In future, it will be treated as `np.float64 == np.dtype(float).type`.\n",
      "  from ._conv import register_converters as _register_converters\n",
      "Using TensorFlow backend.\n"
     ]
    }
   ],
   "source": [
    "import os\n",
    "import json\n",
    "import numpy as np\n",
    "import io\n",
    "from datetime import datetime\n",
    "from data_generator import DataGenerator\n",
    "from trade_env import TraderEnv\n",
    "from rnn.model_keras import NeuralNetwork\n",
    "import numpy\n",
    "import matplotlib.pyplot as plt\n",
    "from pandas import read_csv\n",
    "import math\n",
    "from keras.models import Sequential\n",
    "from keras.layers import Dense, Activation, LSTM\n",
    "from sklearn.preprocessing import MinMaxScaler"
   ]
  },
  {
   "cell_type": "code",
   "execution_count": 2,
   "metadata": {},
   "outputs": [],
   "source": [
    "dt = DataGenerator(random=False, first_index=10)\n",
    "dt.rewind()"
   ]
  },
  {
   "cell_type": "code",
   "execution_count": 3,
   "metadata": {
    "collapsed": true
   },
   "outputs": [],
   "source": [
    "# integer encode input data\n",
    "def onehot_encoded (integer_encoded, char_to_int = 2):\n",
    "    # one hot encode\n",
    "    onehot_encoded = list()\n",
    "    letter = [0 for _ in range(char_to_int)]\n",
    "    letter[integer_encoded] = 1\n",
    "    onehot_encoded.append(letter)\n",
    "    \n",
    "    return onehot_encoded[0]"
   ]
  },
  {
   "cell_type": "code",
   "execution_count": 4,
   "metadata": {
    "collapsed": true
   },
   "outputs": [],
   "source": [
    "last_price = 0\n",
    "last_time = 0\n",
    "steps = 100\n",
    "def get_state(raw_state):\n",
    "    global last_price\n",
    "    global last_time\n",
    "    list = []\n",
    "\n",
    "    price = raw_state[\"price\"]\n",
    "\n",
    "    def prepare_orders(orders, price, multi):\n",
    "        amount = float(orders[0][1])\n",
    "        for order in orders:\n",
    "            list.append((float(order[0])/price) * multi)\n",
    "            list.append(float(order[1])/amount)\n",
    "\n",
    "    bids = raw_state[\"bids\"][:5]\n",
    "    asks = raw_state[\"asks\"][:5]\n",
    "    prepare_orders(bids, price, 1)\n",
    "    prepare_orders(asks, price, -1)\n",
    "\n",
    "\n",
    "    if last_price != 0:\n",
    "        list.extend([price/last_price])\n",
    "    else:\n",
    "        list.extend([0])\n",
    "        \n",
    "    \n",
    "    if last_time != 0:\n",
    "        list.extend([int(state['timestamp'])/last_time])\n",
    "    else:\n",
    "        list.extend([0])\n",
    "        \n",
    "    last_time = int(state['timestamp'])\n",
    "    \n",
    "    y = dt.get_from_index(dt.index + steps)[\"price\"]\n",
    "    \n",
    "    if y > price:\n",
    "        y = onehot_encoded(0)\n",
    "    #elif y < price: \n",
    "    #    y = onehot_encoded(2)\n",
    "    else:\n",
    "        y = onehot_encoded(1)\n",
    "        \n",
    "    #datetime.fromtimestamp(int(state['timestamp']))\n",
    "    \n",
    "    return [list, y]\n"
   ]
  },
  {
   "cell_type": "code",
   "execution_count": 5,
   "metadata": {},
   "outputs": [
    {
     "name": "stdout",
     "output_type": "stream",
     "text": [
      "(100000, 22)\n",
      "(100000, 2)\n"
     ]
    }
   ],
   "source": [
    "trainX = []\n",
    "trainY = []\n",
    "while len(trainX) < 100000: #(dt.max_steps() - steps*3):\n",
    "    state = dt.next()\n",
    "    state = get_state(state)\n",
    "    trainX.append(state[0])\n",
    "    trainY.append(state[1])\n",
    "trainX = np.array(trainX)\n",
    "trainY = np.array(trainY)\n",
    "print(trainX.shape)\n",
    "print(trainY.shape)"
   ]
  },
  {
   "cell_type": "code",
   "execution_count": 6,
   "metadata": {
    "collapsed": true
   },
   "outputs": [],
   "source": [
    "def get_batches(data, features, batch_size, seq_length):\n",
    "    int_text = np.array(data)\n",
    "    \n",
    "    n_batches = int(len(data) / (batch_size * seq_length))\n",
    "\n",
    "    xdata = np.array(data[: n_batches * batch_size * seq_length])\n",
    "    \n",
    "    data = xdata.reshape(-1, seq_length, features)\n",
    "    \n",
    "    #step1 = xdata.reshape(batch_size, -1)\n",
    "    \n",
    "    #print (step1.shape)\n",
    "    #data = np.split(step1, n_batches, 1)\n",
    "    \n",
    "    return np.array(list(data))"
   ]
  },
  {
   "cell_type": "code",
   "execution_count": 7,
   "metadata": {},
   "outputs": [
    {
     "name": "stdout",
     "output_type": "stream",
     "text": [
      "(100000, 22)\n",
      "(1000, 100, 22)\n"
     ]
    }
   ],
   "source": [
    "print(trainX.shape)\n",
    "batch_size = 20\n",
    "seq_length = 100\n",
    "xdata = get_batches(trainX, trainX.shape[1], batch_size, seq_length)\n",
    "print(xdata.shape)"
   ]
  },
  {
   "cell_type": "code",
   "execution_count": 8,
   "metadata": {},
   "outputs": [
    {
     "name": "stdout",
     "output_type": "stream",
     "text": [
      "(100000, 2)\n",
      "(1000, 100, 2)\n"
     ]
    }
   ],
   "source": [
    "print(trainY.shape)\n",
    "ydata = get_batches(trainY, trainY.shape[1], batch_size, seq_length)\n",
    "#ydata = ydata.reshape(9900, seq_length, 3)\n",
    "print(ydata.shape)"
   ]
  },
  {
   "cell_type": "code",
   "execution_count": 9,
   "metadata": {
    "collapsed": true
   },
   "outputs": [],
   "source": [
    "y_train_reshaped = []\n",
    "for i in range(ydata.shape[0]):\n",
    "    y_train_reshaped.append(ydata[i, -1])"
   ]
  },
  {
   "cell_type": "code",
   "execution_count": 10,
   "metadata": {},
   "outputs": [
    {
     "name": "stdout",
     "output_type": "stream",
     "text": [
      "(1000, 2)\n"
     ]
    }
   ],
   "source": [
    "y_train_reshaped = np.array(y_train_reshaped)\n",
    "print(y_train_reshaped.shape)"
   ]
  },
  {
   "cell_type": "code",
   "execution_count": 11,
   "metadata": {
    "collapsed": true
   },
   "outputs": [],
   "source": [
    "nn = NeuralNetwork(0.00001, xdata.shape[2], y_train_reshaped.shape[1], xdata.shape[1])"
   ]
  },
  {
   "cell_type": "code",
   "execution_count": 12,
   "metadata": {
    "scrolled": true
   },
   "outputs": [
    {
     "name": "stdout",
     "output_type": "stream",
     "text": [
      "Train on 700 samples, validate on 300 samples\n",
      "Epoch 1/150\n",
      "700/700 [==============================] - 5s 8ms/step - loss: 7.6198 - mean_absolute_error: 0.5098 - acc: 0.4886 - val_loss: 7.1608 - val_mean_absolute_error: 0.4499 - val_acc: 0.5500\n",
      "Epoch 2/150\n",
      "700/700 [==============================] - 4s 6ms/step - loss: 7.0925 - mean_absolute_error: 0.4542 - acc: 0.5457 - val_loss: 7.0867 - val_mean_absolute_error: 0.4462 - val_acc: 0.5533\n",
      "Epoch 3/150\n",
      "700/700 [==============================] - 4s 5ms/step - loss: 6.7811 - mean_absolute_error: 0.4421 - acc: 0.5586 - val_loss: 7.0266 - val_mean_absolute_error: 0.4484 - val_acc: 0.5500\n",
      "Epoch 4/150\n",
      "700/700 [==============================] - 3s 5ms/step - loss: 6.6796 - mean_absolute_error: 0.4619 - acc: 0.5371 - val_loss: 7.1464 - val_mean_absolute_error: 0.4699 - val_acc: 0.5300\n",
      "Epoch 5/150\n",
      "700/700 [==============================] - 3s 5ms/step - loss: 7.3541 - mean_absolute_error: 0.4934 - acc: 0.5057 - val_loss: 8.0744 - val_mean_absolute_error: 0.5454 - val_acc: 0.4533\n",
      "Epoch 6/150\n",
      "700/700 [==============================] - 4s 6ms/step - loss: 7.3201 - mean_absolute_error: 0.4912 - acc: 0.5086 - val_loss: 6.9691 - val_mean_absolute_error: 0.4465 - val_acc: 0.5533\n",
      "Epoch 7/150\n",
      "700/700 [==============================] - 4s 6ms/step - loss: 6.7394 - mean_absolute_error: 0.4380 - acc: 0.5629 - val_loss: 7.2778 - val_mean_absolute_error: 0.4823 - val_acc: 0.5167\n",
      "Epoch 8/150\n",
      "700/700 [==============================] - 5s 7ms/step - loss: 6.6892 - mean_absolute_error: 0.4439 - acc: 0.5586 - val_loss: 7.5753 - val_mean_absolute_error: 0.4963 - val_acc: 0.5000\n",
      "Epoch 9/150\n",
      "700/700 [==============================] - 4s 6ms/step - loss: 6.9275 - mean_absolute_error: 0.4530 - acc: 0.5457 - val_loss: 7.2112 - val_mean_absolute_error: 0.4605 - val_acc: 0.5400\n",
      "Epoch 10/150\n",
      "700/700 [==============================] - 5s 8ms/step - loss: 7.1256 - mean_absolute_error: 0.4599 - acc: 0.5386 - val_loss: 7.3302 - val_mean_absolute_error: 0.4681 - val_acc: 0.5333\n",
      "Epoch 11/150\n",
      "700/700 [==============================] - 5s 7ms/step - loss: 6.8961 - mean_absolute_error: 0.4497 - acc: 0.5500 - val_loss: 7.1888 - val_mean_absolute_error: 0.4706 - val_acc: 0.5333\n",
      "Epoch 12/150\n",
      "700/700 [==============================] - 4s 6ms/step - loss: 6.6015 - mean_absolute_error: 0.4353 - acc: 0.5657 - val_loss: 7.0923 - val_mean_absolute_error: 0.4579 - val_acc: 0.5400\n",
      "Epoch 13/150\n",
      "700/700 [==============================] - 4s 6ms/step - loss: 6.7856 - mean_absolute_error: 0.4540 - acc: 0.5471 - val_loss: 6.6117 - val_mean_absolute_error: 0.4522 - val_acc: 0.5467\n",
      "Epoch 14/150\n",
      "700/700 [==============================] - 4s 6ms/step - loss: 6.5236 - mean_absolute_error: 0.4401 - acc: 0.5600 - val_loss: 7.3886 - val_mean_absolute_error: 0.4916 - val_acc: 0.5033\n",
      "Epoch 15/150\n",
      "700/700 [==============================] - 4s 6ms/step - loss: 6.7062 - mean_absolute_error: 0.4520 - acc: 0.5486 - val_loss: 6.9942 - val_mean_absolute_error: 0.4764 - val_acc: 0.5200\n",
      "Epoch 16/150\n",
      "700/700 [==============================] - 4s 6ms/step - loss: 6.1399 - mean_absolute_error: 0.4203 - acc: 0.5829 - val_loss: 7.2766 - val_mean_absolute_error: 0.5121 - val_acc: 0.4867\n",
      "Epoch 17/150\n",
      "700/700 [==============================] - 5s 7ms/step - loss: 6.0186 - mean_absolute_error: 0.4304 - acc: 0.5714 - val_loss: 7.4426 - val_mean_absolute_error: 0.5168 - val_acc: 0.4800\n",
      "Epoch 18/150\n",
      "700/700 [==============================] - 4s 6ms/step - loss: 6.2518 - mean_absolute_error: 0.4422 - acc: 0.5557 - val_loss: 6.8766 - val_mean_absolute_error: 0.4623 - val_acc: 0.5400\n",
      "Epoch 19/150\n",
      "700/700 [==============================] - 4s 6ms/step - loss: 6.4959 - mean_absolute_error: 0.4499 - acc: 0.5471 - val_loss: 6.9139 - val_mean_absolute_error: 0.4969 - val_acc: 0.5033\n",
      "Epoch 20/150\n",
      "700/700 [==============================] - 4s 6ms/step - loss: 6.3678 - mean_absolute_error: 0.4482 - acc: 0.5514 - val_loss: 7.2419 - val_mean_absolute_error: 0.5095 - val_acc: 0.4900\n",
      "Epoch 21/150\n",
      "700/700 [==============================] - 4s 6ms/step - loss: 7.4028 - mean_absolute_error: 0.5129 - acc: 0.4900 - val_loss: 8.0058 - val_mean_absolute_error: 0.5485 - val_acc: 0.4533\n",
      "Epoch 22/150\n",
      "700/700 [==============================] - 4s 5ms/step - loss: 7.0620 - mean_absolute_error: 0.4922 - acc: 0.5100 - val_loss: 8.1248 - val_mean_absolute_error: 0.5495 - val_acc: 0.4500\n",
      "Epoch 23/150\n",
      "700/700 [==============================] - 4s 6ms/step - loss: 6.7455 - mean_absolute_error: 0.4682 - acc: 0.5343 - val_loss: 7.7748 - val_mean_absolute_error: 0.5384 - val_acc: 0.4600\n",
      "Epoch 24/150\n",
      "700/700 [==============================] - 4s 5ms/step - loss: 6.8577 - mean_absolute_error: 0.4645 - acc: 0.5371 - val_loss: 6.8006 - val_mean_absolute_error: 0.4531 - val_acc: 0.5467\n",
      "Epoch 25/150\n",
      "700/700 [==============================] - 4s 5ms/step - loss: 6.3422 - mean_absolute_error: 0.4403 - acc: 0.5571 - val_loss: 7.1252 - val_mean_absolute_error: 0.4492 - val_acc: 0.5500\n",
      "Epoch 26/150\n",
      "700/700 [==============================] - 4s 5ms/step - loss: 6.8074 - mean_absolute_error: 0.4447 - acc: 0.5543 - val_loss: 7.0196 - val_mean_absolute_error: 0.4424 - val_acc: 0.5567\n",
      "Epoch 27/150\n",
      "700/700 [==============================] - 3s 5ms/step - loss: 6.7608 - mean_absolute_error: 0.4432 - acc: 0.5600 - val_loss: 7.0295 - val_mean_absolute_error: 0.4426 - val_acc: 0.5567\n",
      "Epoch 28/150\n",
      "700/700 [==============================] - 4s 5ms/step - loss: 6.9117 - mean_absolute_error: 0.4545 - acc: 0.5471 - val_loss: 7.0301 - val_mean_absolute_error: 0.4429 - val_acc: 0.5567\n",
      "Epoch 29/150\n",
      "700/700 [==============================] - 3s 5ms/step - loss: 6.5348 - mean_absolute_error: 0.4326 - acc: 0.5671 - val_loss: 7.0244 - val_mean_absolute_error: 0.4429 - val_acc: 0.5567\n",
      "Epoch 30/150\n",
      "700/700 [==============================] - 3s 5ms/step - loss: 6.4882 - mean_absolute_error: 0.4351 - acc: 0.5657 - val_loss: 6.9689 - val_mean_absolute_error: 0.4413 - val_acc: 0.5600\n",
      "Epoch 31/150\n",
      "700/700 [==============================] - 3s 5ms/step - loss: 6.8989 - mean_absolute_error: 0.4729 - acc: 0.5271 - val_loss: 7.3818 - val_mean_absolute_error: 0.5033 - val_acc: 0.5000\n",
      "Epoch 32/150\n",
      "700/700 [==============================] - 3s 5ms/step - loss: 6.7897 - mean_absolute_error: 0.4640 - acc: 0.5371 - val_loss: 7.2929 - val_mean_absolute_error: 0.4797 - val_acc: 0.5267\n",
      "Epoch 33/150\n",
      "700/700 [==============================] - 3s 5ms/step - loss: 6.6586 - mean_absolute_error: 0.4582 - acc: 0.5429 - val_loss: 7.1793 - val_mean_absolute_error: 0.4741 - val_acc: 0.5333\n",
      "Epoch 34/150\n",
      "700/700 [==============================] - 3s 4ms/step - loss: 6.3569 - mean_absolute_error: 0.4328 - acc: 0.5714 - val_loss: 7.2080 - val_mean_absolute_error: 0.4671 - val_acc: 0.5367\n",
      "Epoch 35/150\n",
      "700/700 [==============================] - 3s 5ms/step - loss: 6.6890 - mean_absolute_error: 0.4575 - acc: 0.5443 - val_loss: 6.9094 - val_mean_absolute_error: 0.4803 - val_acc: 0.5233\n",
      "Epoch 36/150\n",
      "700/700 [==============================] - 3s 5ms/step - loss: 6.8030 - mean_absolute_error: 0.4777 - acc: 0.5229 - val_loss: 7.7219 - val_mean_absolute_error: 0.5333 - val_acc: 0.4700\n",
      "Epoch 37/150\n",
      "700/700 [==============================] - 3s 5ms/step - loss: 6.4108 - mean_absolute_error: 0.4495 - acc: 0.5529 - val_loss: 7.3974 - val_mean_absolute_error: 0.5075 - val_acc: 0.4933\n",
      "Epoch 38/150\n",
      "700/700 [==============================] - 3s 5ms/step - loss: 6.7832 - mean_absolute_error: 0.4725 - acc: 0.5300 - val_loss: 7.2384 - val_mean_absolute_error: 0.5094 - val_acc: 0.4933\n",
      "Epoch 39/150\n",
      "700/700 [==============================] - 3s 5ms/step - loss: 6.4393 - mean_absolute_error: 0.4426 - acc: 0.5586 - val_loss: 7.3003 - val_mean_absolute_error: 0.4836 - val_acc: 0.5167\n",
      "Epoch 40/150\n",
      "700/700 [==============================] - 3s 5ms/step - loss: 6.3239 - mean_absolute_error: 0.4345 - acc: 0.5686 - val_loss: 7.1753 - val_mean_absolute_error: 0.4800 - val_acc: 0.5167\n",
      "Epoch 41/150\n",
      "700/700 [==============================] - 3s 5ms/step - loss: 6.8020 - mean_absolute_error: 0.4511 - acc: 0.5514 - val_loss: 7.0164 - val_mean_absolute_error: 0.4636 - val_acc: 0.5333\n",
      "Epoch 42/150\n"
     ]
    },
    {
     "name": "stdout",
     "output_type": "stream",
     "text": [
      "700/700 [==============================] - 3s 5ms/step - loss: 6.5698 - mean_absolute_error: 0.4421 - acc: 0.5586 - val_loss: 7.2255 - val_mean_absolute_error: 0.4764 - val_acc: 0.5200\n",
      "Epoch 43/150\n",
      "700/700 [==============================] - 3s 5ms/step - loss: 6.7855 - mean_absolute_error: 0.4582 - acc: 0.5443 - val_loss: 6.8683 - val_mean_absolute_error: 0.4573 - val_acc: 0.5400\n",
      "Epoch 44/150\n",
      "700/700 [==============================] - 3s 5ms/step - loss: 6.5963 - mean_absolute_error: 0.4436 - acc: 0.5571 - val_loss: 6.6168 - val_mean_absolute_error: 0.4587 - val_acc: 0.5367\n",
      "Epoch 45/150\n",
      "700/700 [==============================] - 3s 5ms/step - loss: 6.4635 - mean_absolute_error: 0.4315 - acc: 0.5743 - val_loss: 6.7957 - val_mean_absolute_error: 0.4552 - val_acc: 0.5400\n",
      "Epoch 46/150\n",
      "700/700 [==============================] - 3s 5ms/step - loss: 6.2289 - mean_absolute_error: 0.4215 - acc: 0.5814 - val_loss: 6.7549 - val_mean_absolute_error: 0.4521 - val_acc: 0.5433\n",
      "Epoch 47/150\n",
      "700/700 [==============================] - 3s 5ms/step - loss: 6.6331 - mean_absolute_error: 0.4505 - acc: 0.5500 - val_loss: 6.5370 - val_mean_absolute_error: 0.4409 - val_acc: 0.5567\n",
      "Epoch 48/150\n",
      "700/700 [==============================] - 4s 5ms/step - loss: 6.3449 - mean_absolute_error: 0.4274 - acc: 0.5757 - val_loss: 6.6130 - val_mean_absolute_error: 0.4439 - val_acc: 0.5567\n",
      "Epoch 49/150\n",
      "700/700 [==============================] - 4s 5ms/step - loss: 6.7471 - mean_absolute_error: 0.4531 - acc: 0.5457 - val_loss: 7.1824 - val_mean_absolute_error: 0.4794 - val_acc: 0.5200\n",
      "Epoch 50/150\n",
      "700/700 [==============================] - 4s 5ms/step - loss: 6.2366 - mean_absolute_error: 0.4262 - acc: 0.5757 - val_loss: 7.3083 - val_mean_absolute_error: 0.4913 - val_acc: 0.5100\n",
      "Epoch 51/150\n",
      "700/700 [==============================] - 4s 5ms/step - loss: 6.3812 - mean_absolute_error: 0.4442 - acc: 0.5543 - val_loss: 7.2392 - val_mean_absolute_error: 0.4911 - val_acc: 0.5100\n",
      "Epoch 52/150\n",
      "700/700 [==============================] - 4s 6ms/step - loss: 6.2867 - mean_absolute_error: 0.4484 - acc: 0.5557 - val_loss: 7.1546 - val_mean_absolute_error: 0.4973 - val_acc: 0.5067\n",
      "Epoch 53/150\n",
      "700/700 [==============================] - 4s 5ms/step - loss: 6.4497 - mean_absolute_error: 0.4413 - acc: 0.5586 - val_loss: 7.5103 - val_mean_absolute_error: 0.5158 - val_acc: 0.4867\n",
      "Epoch 54/150\n",
      "700/700 [==============================] - 4s 5ms/step - loss: 6.4571 - mean_absolute_error: 0.4571 - acc: 0.5457 - val_loss: 7.6053 - val_mean_absolute_error: 0.5361 - val_acc: 0.4600\n",
      "Epoch 55/150\n",
      "700/700 [==============================] - 4s 6ms/step - loss: 6.3488 - mean_absolute_error: 0.4374 - acc: 0.5600 - val_loss: 6.9642 - val_mean_absolute_error: 0.4650 - val_acc: 0.5367\n",
      "Epoch 56/150\n",
      "700/700 [==============================] - 4s 5ms/step - loss: 6.3881 - mean_absolute_error: 0.4330 - acc: 0.5629 - val_loss: 7.3923 - val_mean_absolute_error: 0.4826 - val_acc: 0.5200\n",
      "Epoch 57/150\n",
      "700/700 [==============================] - 3s 5ms/step - loss: 6.3551 - mean_absolute_error: 0.4301 - acc: 0.5700 - val_loss: 7.1742 - val_mean_absolute_error: 0.4749 - val_acc: 0.5267\n",
      "Epoch 58/150\n",
      "700/700 [==============================] - 3s 5ms/step - loss: 6.6774 - mean_absolute_error: 0.4581 - acc: 0.5443 - val_loss: 7.1243 - val_mean_absolute_error: 0.4748 - val_acc: 0.5267\n",
      "Epoch 59/150\n",
      "700/700 [==============================] - 3s 5ms/step - loss: 6.4259 - mean_absolute_error: 0.4368 - acc: 0.5629 - val_loss: 7.1419 - val_mean_absolute_error: 0.4856 - val_acc: 0.5167\n",
      "Epoch 60/150\n",
      "700/700 [==============================] - 3s 4ms/step - loss: 6.6315 - mean_absolute_error: 0.4542 - acc: 0.5486 - val_loss: 7.0977 - val_mean_absolute_error: 0.4723 - val_acc: 0.5267\n",
      "Epoch 61/150\n",
      "700/700 [==============================] - 4s 5ms/step - loss: 6.4510 - mean_absolute_error: 0.4395 - acc: 0.5586 - val_loss: 7.2013 - val_mean_absolute_error: 0.4771 - val_acc: 0.5233\n",
      "Epoch 62/150\n",
      "700/700 [==============================] - 3s 5ms/step - loss: 6.4007 - mean_absolute_error: 0.4402 - acc: 0.5600 - val_loss: 7.1601 - val_mean_absolute_error: 0.4749 - val_acc: 0.5233\n",
      "Epoch 63/150\n",
      "700/700 [==============================] - 4s 5ms/step - loss: 6.4917 - mean_absolute_error: 0.4377 - acc: 0.5643 - val_loss: 7.0603 - val_mean_absolute_error: 0.4646 - val_acc: 0.5333\n",
      "Epoch 64/150\n",
      "544/700 [======================>.......] - ETA: 0s - loss: 6.0673 - mean_absolute_error: 0.4180 - acc: 0.5827"
     ]
    },
    {
     "ename": "KeyboardInterrupt",
     "evalue": "",
     "output_type": "error",
     "traceback": [
      "\u001b[0;31m---------------------------------------------------------------------------\u001b[0m",
      "\u001b[0;31mKeyboardInterrupt\u001b[0m                         Traceback (most recent call last)",
      "\u001b[0;32m<ipython-input-12-1db4b0143cb8>\u001b[0m in \u001b[0;36m<module>\u001b[0;34m()\u001b[0m\n\u001b[0;32m----> 1\u001b[0;31m \u001b[0mnn\u001b[0m\u001b[0;34m.\u001b[0m\u001b[0mtrain\u001b[0m\u001b[0;34m(\u001b[0m\u001b[0mxdata\u001b[0m\u001b[0;34m,\u001b[0m \u001b[0my_train_reshaped\u001b[0m\u001b[0;34m)\u001b[0m\u001b[0;34m\u001b[0m\u001b[0m\n\u001b[0m",
      "\u001b[0;32m/Users/samirantonio/Desktop/deep-learning-experiments/rnn/model_keras.py\u001b[0m in \u001b[0;36mtrain\u001b[0;34m(self, X, Y, epochs)\u001b[0m\n\u001b[1;32m     46\u001b[0m     \u001b[0;32mdef\u001b[0m \u001b[0mtrain\u001b[0m\u001b[0;34m(\u001b[0m\u001b[0mself\u001b[0m\u001b[0;34m,\u001b[0m \u001b[0mX\u001b[0m\u001b[0;34m,\u001b[0m \u001b[0mY\u001b[0m\u001b[0;34m,\u001b[0m \u001b[0mepochs\u001b[0m\u001b[0;34m=\u001b[0m\u001b[0;36m150\u001b[0m\u001b[0;34m)\u001b[0m\u001b[0;34m:\u001b[0m\u001b[0;34m\u001b[0m\u001b[0m\n\u001b[1;32m     47\u001b[0m         \u001b[0;31m# Fit the model\u001b[0m\u001b[0;34m\u001b[0m\u001b[0;34m\u001b[0m\u001b[0m\n\u001b[0;32m---> 48\u001b[0;31m         \u001b[0mself\u001b[0m\u001b[0;34m.\u001b[0m\u001b[0mmodel\u001b[0m\u001b[0;34m.\u001b[0m\u001b[0mfit\u001b[0m\u001b[0;34m(\u001b[0m\u001b[0mX\u001b[0m\u001b[0;34m,\u001b[0m \u001b[0mY\u001b[0m\u001b[0;34m,\u001b[0m \u001b[0mepochs\u001b[0m\u001b[0;34m=\u001b[0m\u001b[0mepochs\u001b[0m\u001b[0;34m,\u001b[0m \u001b[0mvalidation_split\u001b[0m\u001b[0;34m=\u001b[0m\u001b[0;36m0.3\u001b[0m\u001b[0;34m,\u001b[0m  \u001b[0mverbose\u001b[0m\u001b[0;34m=\u001b[0m\u001b[0;36m1\u001b[0m\u001b[0;34m)\u001b[0m\u001b[0;34m\u001b[0m\u001b[0m\n\u001b[0m\u001b[1;32m     49\u001b[0m \u001b[0;34m\u001b[0m\u001b[0m\n\u001b[1;32m     50\u001b[0m \u001b[0;34m\u001b[0m\u001b[0m\n",
      "\u001b[0;32m/Users/samirantonio/anaconda/envs/python3/lib/python3.6/site-packages/keras/models.py\u001b[0m in \u001b[0;36mfit\u001b[0;34m(self, x, y, batch_size, epochs, verbose, callbacks, validation_split, validation_data, shuffle, class_weight, sample_weight, initial_epoch, steps_per_epoch, validation_steps, **kwargs)\u001b[0m\n\u001b[1;32m    961\u001b[0m                               \u001b[0minitial_epoch\u001b[0m\u001b[0;34m=\u001b[0m\u001b[0minitial_epoch\u001b[0m\u001b[0;34m,\u001b[0m\u001b[0;34m\u001b[0m\u001b[0m\n\u001b[1;32m    962\u001b[0m                               \u001b[0msteps_per_epoch\u001b[0m\u001b[0;34m=\u001b[0m\u001b[0msteps_per_epoch\u001b[0m\u001b[0;34m,\u001b[0m\u001b[0;34m\u001b[0m\u001b[0m\n\u001b[0;32m--> 963\u001b[0;31m                               validation_steps=validation_steps)\n\u001b[0m\u001b[1;32m    964\u001b[0m \u001b[0;34m\u001b[0m\u001b[0m\n\u001b[1;32m    965\u001b[0m     def evaluate(self, x=None, y=None,\n",
      "\u001b[0;32m/Users/samirantonio/anaconda/envs/python3/lib/python3.6/site-packages/keras/engine/training.py\u001b[0m in \u001b[0;36mfit\u001b[0;34m(self, x, y, batch_size, epochs, verbose, callbacks, validation_split, validation_data, shuffle, class_weight, sample_weight, initial_epoch, steps_per_epoch, validation_steps, **kwargs)\u001b[0m\n\u001b[1;32m   1703\u001b[0m                               \u001b[0minitial_epoch\u001b[0m\u001b[0;34m=\u001b[0m\u001b[0minitial_epoch\u001b[0m\u001b[0;34m,\u001b[0m\u001b[0;34m\u001b[0m\u001b[0m\n\u001b[1;32m   1704\u001b[0m                               \u001b[0msteps_per_epoch\u001b[0m\u001b[0;34m=\u001b[0m\u001b[0msteps_per_epoch\u001b[0m\u001b[0;34m,\u001b[0m\u001b[0;34m\u001b[0m\u001b[0m\n\u001b[0;32m-> 1705\u001b[0;31m                               validation_steps=validation_steps)\n\u001b[0m\u001b[1;32m   1706\u001b[0m \u001b[0;34m\u001b[0m\u001b[0m\n\u001b[1;32m   1707\u001b[0m     def evaluate(self, x=None, y=None,\n",
      "\u001b[0;32m/Users/samirantonio/anaconda/envs/python3/lib/python3.6/site-packages/keras/engine/training.py\u001b[0m in \u001b[0;36m_fit_loop\u001b[0;34m(self, f, ins, out_labels, batch_size, epochs, verbose, callbacks, val_f, val_ins, shuffle, callback_metrics, initial_epoch, steps_per_epoch, validation_steps)\u001b[0m\n\u001b[1;32m   1233\u001b[0m                         \u001b[0mins_batch\u001b[0m\u001b[0;34m[\u001b[0m\u001b[0mi\u001b[0m\u001b[0;34m]\u001b[0m \u001b[0;34m=\u001b[0m \u001b[0mins_batch\u001b[0m\u001b[0;34m[\u001b[0m\u001b[0mi\u001b[0m\u001b[0;34m]\u001b[0m\u001b[0;34m.\u001b[0m\u001b[0mtoarray\u001b[0m\u001b[0;34m(\u001b[0m\u001b[0;34m)\u001b[0m\u001b[0;34m\u001b[0m\u001b[0m\n\u001b[1;32m   1234\u001b[0m \u001b[0;34m\u001b[0m\u001b[0m\n\u001b[0;32m-> 1235\u001b[0;31m                     \u001b[0mouts\u001b[0m \u001b[0;34m=\u001b[0m \u001b[0mf\u001b[0m\u001b[0;34m(\u001b[0m\u001b[0mins_batch\u001b[0m\u001b[0;34m)\u001b[0m\u001b[0;34m\u001b[0m\u001b[0m\n\u001b[0m\u001b[1;32m   1236\u001b[0m                     \u001b[0;32mif\u001b[0m \u001b[0;32mnot\u001b[0m \u001b[0misinstance\u001b[0m\u001b[0;34m(\u001b[0m\u001b[0mouts\u001b[0m\u001b[0;34m,\u001b[0m \u001b[0mlist\u001b[0m\u001b[0;34m)\u001b[0m\u001b[0;34m:\u001b[0m\u001b[0;34m\u001b[0m\u001b[0m\n\u001b[1;32m   1237\u001b[0m                         \u001b[0mouts\u001b[0m \u001b[0;34m=\u001b[0m \u001b[0;34m[\u001b[0m\u001b[0mouts\u001b[0m\u001b[0;34m]\u001b[0m\u001b[0;34m\u001b[0m\u001b[0m\n",
      "\u001b[0;32m/Users/samirantonio/anaconda/envs/python3/lib/python3.6/site-packages/keras/backend/tensorflow_backend.py\u001b[0m in \u001b[0;36m__call__\u001b[0;34m(self, inputs)\u001b[0m\n\u001b[1;32m   2476\u001b[0m         \u001b[0msession\u001b[0m \u001b[0;34m=\u001b[0m \u001b[0mget_session\u001b[0m\u001b[0;34m(\u001b[0m\u001b[0;34m)\u001b[0m\u001b[0;34m\u001b[0m\u001b[0m\n\u001b[1;32m   2477\u001b[0m         updated = session.run(fetches=fetches, feed_dict=feed_dict,\n\u001b[0;32m-> 2478\u001b[0;31m                               **self.session_kwargs)\n\u001b[0m\u001b[1;32m   2479\u001b[0m         \u001b[0;32mreturn\u001b[0m \u001b[0mupdated\u001b[0m\u001b[0;34m[\u001b[0m\u001b[0;34m:\u001b[0m\u001b[0mlen\u001b[0m\u001b[0;34m(\u001b[0m\u001b[0mself\u001b[0m\u001b[0;34m.\u001b[0m\u001b[0moutputs\u001b[0m\u001b[0;34m)\u001b[0m\u001b[0;34m]\u001b[0m\u001b[0;34m\u001b[0m\u001b[0m\n\u001b[1;32m   2480\u001b[0m \u001b[0;34m\u001b[0m\u001b[0m\n",
      "\u001b[0;32m/Users/samirantonio/anaconda/envs/python3/lib/python3.6/site-packages/tensorflow/python/client/session.py\u001b[0m in \u001b[0;36mrun\u001b[0;34m(self, fetches, feed_dict, options, run_metadata)\u001b[0m\n\u001b[1;32m    903\u001b[0m     \u001b[0;32mtry\u001b[0m\u001b[0;34m:\u001b[0m\u001b[0;34m\u001b[0m\u001b[0m\n\u001b[1;32m    904\u001b[0m       result = self._run(None, fetches, feed_dict, options_ptr,\n\u001b[0;32m--> 905\u001b[0;31m                          run_metadata_ptr)\n\u001b[0m\u001b[1;32m    906\u001b[0m       \u001b[0;32mif\u001b[0m \u001b[0mrun_metadata\u001b[0m\u001b[0;34m:\u001b[0m\u001b[0;34m\u001b[0m\u001b[0m\n\u001b[1;32m    907\u001b[0m         \u001b[0mproto_data\u001b[0m \u001b[0;34m=\u001b[0m \u001b[0mtf_session\u001b[0m\u001b[0;34m.\u001b[0m\u001b[0mTF_GetBuffer\u001b[0m\u001b[0;34m(\u001b[0m\u001b[0mrun_metadata_ptr\u001b[0m\u001b[0;34m)\u001b[0m\u001b[0;34m\u001b[0m\u001b[0m\n",
      "\u001b[0;32m/Users/samirantonio/anaconda/envs/python3/lib/python3.6/site-packages/tensorflow/python/client/session.py\u001b[0m in \u001b[0;36m_run\u001b[0;34m(self, handle, fetches, feed_dict, options, run_metadata)\u001b[0m\n\u001b[1;32m   1138\u001b[0m     \u001b[0;32mif\u001b[0m \u001b[0mfinal_fetches\u001b[0m \u001b[0;32mor\u001b[0m \u001b[0mfinal_targets\u001b[0m \u001b[0;32mor\u001b[0m \u001b[0;34m(\u001b[0m\u001b[0mhandle\u001b[0m \u001b[0;32mand\u001b[0m \u001b[0mfeed_dict_tensor\u001b[0m\u001b[0;34m)\u001b[0m\u001b[0;34m:\u001b[0m\u001b[0;34m\u001b[0m\u001b[0m\n\u001b[1;32m   1139\u001b[0m       results = self._do_run(handle, final_targets, final_fetches,\n\u001b[0;32m-> 1140\u001b[0;31m                              feed_dict_tensor, options, run_metadata)\n\u001b[0m\u001b[1;32m   1141\u001b[0m     \u001b[0;32melse\u001b[0m\u001b[0;34m:\u001b[0m\u001b[0;34m\u001b[0m\u001b[0m\n\u001b[1;32m   1142\u001b[0m       \u001b[0mresults\u001b[0m \u001b[0;34m=\u001b[0m \u001b[0;34m[\u001b[0m\u001b[0;34m]\u001b[0m\u001b[0;34m\u001b[0m\u001b[0m\n",
      "\u001b[0;32m/Users/samirantonio/anaconda/envs/python3/lib/python3.6/site-packages/tensorflow/python/client/session.py\u001b[0m in \u001b[0;36m_do_run\u001b[0;34m(self, handle, target_list, fetch_list, feed_dict, options, run_metadata)\u001b[0m\n\u001b[1;32m   1319\u001b[0m     \u001b[0;32mif\u001b[0m \u001b[0mhandle\u001b[0m \u001b[0;32mis\u001b[0m \u001b[0;32mNone\u001b[0m\u001b[0;34m:\u001b[0m\u001b[0;34m\u001b[0m\u001b[0m\n\u001b[1;32m   1320\u001b[0m       return self._do_call(_run_fn, feeds, fetches, targets, options,\n\u001b[0;32m-> 1321\u001b[0;31m                            run_metadata)\n\u001b[0m\u001b[1;32m   1322\u001b[0m     \u001b[0;32melse\u001b[0m\u001b[0;34m:\u001b[0m\u001b[0;34m\u001b[0m\u001b[0m\n\u001b[1;32m   1323\u001b[0m       \u001b[0;32mreturn\u001b[0m \u001b[0mself\u001b[0m\u001b[0;34m.\u001b[0m\u001b[0m_do_call\u001b[0m\u001b[0;34m(\u001b[0m\u001b[0m_prun_fn\u001b[0m\u001b[0;34m,\u001b[0m \u001b[0mhandle\u001b[0m\u001b[0;34m,\u001b[0m \u001b[0mfeeds\u001b[0m\u001b[0;34m,\u001b[0m \u001b[0mfetches\u001b[0m\u001b[0;34m)\u001b[0m\u001b[0;34m\u001b[0m\u001b[0m\n",
      "\u001b[0;32m/Users/samirantonio/anaconda/envs/python3/lib/python3.6/site-packages/tensorflow/python/client/session.py\u001b[0m in \u001b[0;36m_do_call\u001b[0;34m(self, fn, *args)\u001b[0m\n\u001b[1;32m   1325\u001b[0m   \u001b[0;32mdef\u001b[0m \u001b[0m_do_call\u001b[0m\u001b[0;34m(\u001b[0m\u001b[0mself\u001b[0m\u001b[0;34m,\u001b[0m \u001b[0mfn\u001b[0m\u001b[0;34m,\u001b[0m \u001b[0;34m*\u001b[0m\u001b[0margs\u001b[0m\u001b[0;34m)\u001b[0m\u001b[0;34m:\u001b[0m\u001b[0;34m\u001b[0m\u001b[0m\n\u001b[1;32m   1326\u001b[0m     \u001b[0;32mtry\u001b[0m\u001b[0;34m:\u001b[0m\u001b[0;34m\u001b[0m\u001b[0m\n\u001b[0;32m-> 1327\u001b[0;31m       \u001b[0;32mreturn\u001b[0m \u001b[0mfn\u001b[0m\u001b[0;34m(\u001b[0m\u001b[0;34m*\u001b[0m\u001b[0margs\u001b[0m\u001b[0;34m)\u001b[0m\u001b[0;34m\u001b[0m\u001b[0m\n\u001b[0m\u001b[1;32m   1328\u001b[0m     \u001b[0;32mexcept\u001b[0m \u001b[0merrors\u001b[0m\u001b[0;34m.\u001b[0m\u001b[0mOpError\u001b[0m \u001b[0;32mas\u001b[0m \u001b[0me\u001b[0m\u001b[0;34m:\u001b[0m\u001b[0;34m\u001b[0m\u001b[0m\n\u001b[1;32m   1329\u001b[0m       \u001b[0mmessage\u001b[0m \u001b[0;34m=\u001b[0m \u001b[0mcompat\u001b[0m\u001b[0;34m.\u001b[0m\u001b[0mas_text\u001b[0m\u001b[0;34m(\u001b[0m\u001b[0me\u001b[0m\u001b[0;34m.\u001b[0m\u001b[0mmessage\u001b[0m\u001b[0;34m)\u001b[0m\u001b[0;34m\u001b[0m\u001b[0m\n",
      "\u001b[0;32m/Users/samirantonio/anaconda/envs/python3/lib/python3.6/site-packages/tensorflow/python/client/session.py\u001b[0m in \u001b[0;36m_run_fn\u001b[0;34m(feed_dict, fetch_list, target_list, options, run_metadata)\u001b[0m\n\u001b[1;32m   1310\u001b[0m       \u001b[0mself\u001b[0m\u001b[0;34m.\u001b[0m\u001b[0m_extend_graph\u001b[0m\u001b[0;34m(\u001b[0m\u001b[0;34m)\u001b[0m\u001b[0;34m\u001b[0m\u001b[0m\n\u001b[1;32m   1311\u001b[0m       return self._call_tf_sessionrun(\n\u001b[0;32m-> 1312\u001b[0;31m           options, feed_dict, fetch_list, target_list, run_metadata)\n\u001b[0m\u001b[1;32m   1313\u001b[0m \u001b[0;34m\u001b[0m\u001b[0m\n\u001b[1;32m   1314\u001b[0m     \u001b[0;32mdef\u001b[0m \u001b[0m_prun_fn\u001b[0m\u001b[0;34m(\u001b[0m\u001b[0mhandle\u001b[0m\u001b[0;34m,\u001b[0m \u001b[0mfeed_dict\u001b[0m\u001b[0;34m,\u001b[0m \u001b[0mfetch_list\u001b[0m\u001b[0;34m)\u001b[0m\u001b[0;34m:\u001b[0m\u001b[0;34m\u001b[0m\u001b[0m\n",
      "\u001b[0;32m/Users/samirantonio/anaconda/envs/python3/lib/python3.6/site-packages/tensorflow/python/client/session.py\u001b[0m in \u001b[0;36m_call_tf_sessionrun\u001b[0;34m(self, options, feed_dict, fetch_list, target_list, run_metadata)\u001b[0m\n\u001b[1;32m   1418\u001b[0m         return tf_session.TF_Run(\n\u001b[1;32m   1419\u001b[0m             \u001b[0mself\u001b[0m\u001b[0;34m.\u001b[0m\u001b[0m_session\u001b[0m\u001b[0;34m,\u001b[0m \u001b[0moptions\u001b[0m\u001b[0;34m,\u001b[0m \u001b[0mfeed_dict\u001b[0m\u001b[0;34m,\u001b[0m \u001b[0mfetch_list\u001b[0m\u001b[0;34m,\u001b[0m \u001b[0mtarget_list\u001b[0m\u001b[0;34m,\u001b[0m\u001b[0;34m\u001b[0m\u001b[0m\n\u001b[0;32m-> 1420\u001b[0;31m             status, run_metadata)\n\u001b[0m\u001b[1;32m   1421\u001b[0m \u001b[0;34m\u001b[0m\u001b[0m\n\u001b[1;32m   1422\u001b[0m   \u001b[0;32mdef\u001b[0m \u001b[0m_call_tf_sessionprun\u001b[0m\u001b[0;34m(\u001b[0m\u001b[0mself\u001b[0m\u001b[0;34m,\u001b[0m \u001b[0mhandle\u001b[0m\u001b[0;34m,\u001b[0m \u001b[0mfeed_dict\u001b[0m\u001b[0;34m,\u001b[0m \u001b[0mfetch_list\u001b[0m\u001b[0;34m)\u001b[0m\u001b[0;34m:\u001b[0m\u001b[0;34m\u001b[0m\u001b[0m\n",
      "\u001b[0;31mKeyboardInterrupt\u001b[0m: "
     ]
    }
   ],
   "source": [
    "nn.train(xdata, y_train_reshaped)"
   ]
  },
  {
   "cell_type": "code",
   "execution_count": null,
   "metadata": {
    "collapsed": true
   },
   "outputs": [],
   "source": [
    "dt.index"
   ]
  }
 ],
 "metadata": {
  "kernelspec": {
   "display_name": "Python 3",
   "language": "python",
   "name": "python3"
  },
  "language_info": {
   "codemirror_mode": {
    "name": "ipython",
    "version": 3
   },
   "file_extension": ".py",
   "mimetype": "text/x-python",
   "name": "python",
   "nbconvert_exporter": "python",
   "pygments_lexer": "ipython3",
   "version": "3.6.1"
  }
 },
 "nbformat": 4,
 "nbformat_minor": 2
}

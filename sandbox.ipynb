{
 "cells": [
  {
   "cell_type": "code",
   "execution_count": 1,
   "metadata": {},
   "outputs": [
    {
     "name": "stderr",
     "output_type": "stream",
     "text": [
      "/Users/samirantonio/anaconda/envs/python3/lib/python3.6/site-packages/h5py/__init__.py:34: FutureWarning: Conversion of the second argument of issubdtype from `float` to `np.floating` is deprecated. In future, it will be treated as `np.float64 == np.dtype(float).type`.\n",
      "  from ._conv import register_converters as _register_converters\n",
      "Using TensorFlow backend.\n"
     ]
    }
   ],
   "source": [
    "import os\n",
    "import json\n",
    "import numpy as np\n",
    "import io\n",
    "from datetime import datetime\n",
    "from data_generator import DataGenerator\n",
    "from trade_env import TraderEnv\n",
    "from rnn.model_keras import NeuralNetwork\n",
    "import numpy\n",
    "import matplotlib.pyplot as plt\n",
    "from pandas import read_csv\n",
    "import math\n",
    "from keras.models import Sequential\n",
    "from keras.layers import Dense, Activation, LSTM\n",
    "from sklearn.preprocessing import MinMaxScaler\n",
    "\n",
    "from keras.layers.core import Dense, Activation, Dropout\n",
    "from keras.layers.recurrent import LSTM\n",
    "from keras.layers import Bidirectional\n",
    "from keras.models import Sequential\n",
    "\n",
    "#for logging\n",
    "import time"
   ]
  },
  {
   "cell_type": "code",
   "execution_count": 2,
   "metadata": {
    "collapsed": true
   },
   "outputs": [],
   "source": [
    "dt = DataGenerator(random=False, first_index=10)\n",
    "dt.rewind()"
   ]
  },
  {
   "cell_type": "code",
   "execution_count": 3,
   "metadata": {},
   "outputs": [],
   "source": [
    "last_price = 0\n",
    "last_time = 0\n",
    "steps = 100\n",
    "def get_state(raw_state):\n",
    "    global last_price\n",
    "    global last_time\n",
    "    list = []\n",
    "\n",
    "    price = raw_state[\"price\"]\n",
    "\n",
    "    def prepare_orders(orders, price, multi):\n",
    "        amount = float(orders[0][1])\n",
    "        for order in orders:\n",
    "            list.append((float(order[0])/price) * multi)\n",
    "            #list.append(float(order[1])/amount)\n",
    "\n",
    "    bids = raw_state[\"bids\"][:5]\n",
    "    asks = raw_state[\"asks\"][:5]\n",
    "    prepare_orders(bids, price, 1)\n",
    "    prepare_orders(asks, price, -1)\n",
    "\n",
    "\n",
    "    if last_price != 0:\n",
    "        list.extend([price/last_price])\n",
    "    else:\n",
    "        list.extend([0])\n",
    "        \n",
    "    \n",
    "    if last_time != 0:\n",
    "        list.extend([int(state['timestamp'])/last_time])\n",
    "    else:\n",
    "        list.extend([0])\n",
    "        \n",
    "    last_time = int(state['timestamp'])\n",
    "    last_price = price\n",
    "    \n",
    "    y = dt.get_from_index(dt.index + steps)[\"price\"]\n",
    "    \n",
    "    if y > price:\n",
    "        y = onehot_encoded(0)\n",
    "    elif y < price: \n",
    "        y = onehot_encoded(2)\n",
    "    else:\n",
    "        y = onehot_encoded(1)\n",
    "        \n",
    "    #datetime.fromtimestamp(int(state['timestamp']))\n",
    "    \n",
    "    list.extend(y)\n",
    "    \n",
    "    #return [list, y]\n",
    "    return list\n"
   ]
  },
  {
   "cell_type": "code",
   "execution_count": 4,
   "metadata": {
    "collapsed": true
   },
   "outputs": [],
   "source": [
    "# integer encode input data\n",
    "def onehot_encoded (integer_encoded, char_to_int = 3):\n",
    "    # one hot encode\n",
    "    onehot_encoded = list()\n",
    "    letter = [0 for _ in range(char_to_int)]\n",
    "    letter[integer_encoded] = 1\n",
    "    onehot_encoded.append(letter)\n",
    "    \n",
    "    return onehot_encoded[0]"
   ]
  },
  {
   "cell_type": "code",
   "execution_count": 5,
   "metadata": {
    "collapsed": true
   },
   "outputs": [],
   "source": [
    "def load_data(data, sequence_length):\n",
    "    #Convert the data to a 3D array (a x b x c) \n",
    "    #Where a is the number of days, b is the window size, and c is the number of features in the data file\n",
    "    result = []\n",
    "    for index in range(len(data) - sequence_length):\n",
    "        result.append(data[index: index + sequence_length])\n",
    "    \n",
    "    #Normalizing data by going through each window\n",
    "    #Every value in the window is divided by the first value in the window, and then 1 is subtracted\n",
    "    dr = np.array(result)\n",
    "    #print(d0.shape)\n",
    "    #dr = np.zeros_like(d0)\n",
    "    #dr[:,1:,:] = d0[:,1:,:] / d0[:,0:1,:] - 1\n",
    "    \n",
    "    #Keeping the unnormalized prices for Y_test\n",
    "    #Useful when graphing bitcoin price over time later\n",
    "    #start = 2400\n",
    "    #end = int(dr.shape[0] + 1)\n",
    "    #unnormalized_bases = d0[start:end,0:1,20]\n",
    "    \n",
    "    #Splitting data set into training (First 90% of data points) and testing data (last 10% of data points)\n",
    "    split_line = round(0.9 * dr.shape[0])\n",
    "    training_data = dr[:int(split_line), :]\n",
    "    \n",
    "    #Shuffle the data\n",
    "    np.random.shuffle(training_data)\n",
    "    \n",
    "    #Training Data\n",
    "    X_train = training_data[:, :-1]\n",
    "    Y_train = training_data[:, -1]\n",
    "    Y_train = Y_train[:,-3:]\n",
    "    \n",
    "    window_size = sequence_length - 1\n",
    "    \n",
    "    return X_train, Y_train, window_size #, X_test, Y_test#, Y_daybefore, unnormalized_bases, window_size"
   ]
  },
  {
   "cell_type": "code",
   "execution_count": 6,
   "metadata": {},
   "outputs": [],
   "source": [
    "data = []\n",
    "while len(data) < 1000: #(dt.max_steps() - steps*3):\n",
    "    state = dt.next()\n",
    "    state = get_state(state)\n",
    "    data.append(state)\n",
    "dt.rewind()"
   ]
  },
  {
   "cell_type": "code",
   "execution_count": 7,
   "metadata": {},
   "outputs": [
    {
     "name": "stdout",
     "output_type": "stream",
     "text": [
      "1000\n"
     ]
    },
    {
     "data": {
      "text/plain": [
       "(995, 5, 15)"
      ]
     },
     "execution_count": 7,
     "metadata": {},
     "output_type": "execute_result"
    }
   ],
   "source": [
    "result = []\n",
    "sequence_length = 5\n",
    "print (len(data))\n",
    "for index in range(len(data) - sequence_length):\n",
    "    result.append(data[index: index + sequence_length])\n",
    "np.array(result).shape"
   ]
  },
  {
   "cell_type": "code",
   "execution_count": 8,
   "metadata": {},
   "outputs": [],
   "source": [
    "X_train, Y_train, window_size = load_data(data, 30)"
   ]
  },
  {
   "cell_type": "code",
   "execution_count": 9,
   "metadata": {},
   "outputs": [],
   "source": [
    "def initialize_model(window_size, dropout_value, activation_function, loss_function, optimizer):\n",
    "\n",
    "    #Create a Sequential model using Keras\n",
    "    model = Sequential()\n",
    "\n",
    "    #First recurrent layer with dropout\n",
    "    model.add(Bidirectional(LSTM(window_size, return_sequences=True), input_shape=(window_size, X_train.shape[-1]),))\n",
    "    model.add(Dropout(dropout_value))\n",
    "\n",
    "    #Second recurrent layer with dropout\n",
    "    model.add(Bidirectional(LSTM((window_size*2), return_sequences=True)))\n",
    "    model.add(Dropout(dropout_value))\n",
    "\n",
    "    #Third recurrent layer\n",
    "    model.add(Bidirectional(LSTM(window_size, return_sequences=False)))\n",
    "\n",
    "    #Output layer (returns the predicted value)\n",
    "    model.add(Dense(units=3))\n",
    "    \n",
    "    #Set activation function\n",
    "    model.add(Activation(activation_function))\n",
    "\n",
    "    #Set loss function and optimizer\n",
    "    model.compile(loss=loss_function, optimizer=optimizer, metrics=['mae', 'acc'])\n",
    "    \n",
    "    return model"
   ]
  },
  {
   "cell_type": "code",
   "execution_count": 10,
   "metadata": {
    "collapsed": true
   },
   "outputs": [],
   "source": [
    "def fit_model(model, X_train, Y_train, batch_num, num_epoch, val_split):\n",
    "    \"\"\"\n",
    "    Fits the model to the training data\n",
    "    \n",
    "    Arguments:\n",
    "    model -- The previously initalized 3 layer Recurrent Neural Network\n",
    "    X_train -- A tensor of shape (2400, 49, 35) that represents the x values of the training data\n",
    "    Y_train -- A tensor of shape (2400,) that represents the y values of the training data\n",
    "    batch_num -- An integer representing the batch size to be used, in this case 1024\n",
    "    num_epoch -- An integer defining the number of epochs to be run, in this case 100\n",
    "    val_split -- A decimal representing the proportion of training data to be used as validation data\n",
    "    \n",
    "    Returns:\n",
    "    model -- The 3 layer Recurrent Neural Network that has been fitted to the training data\n",
    "    training_time -- An integer representing the amount of time (in seconds) that the model was training\n",
    "    \"\"\"\n",
    "    #Record the time the model starts training\n",
    "    start = time.time()\n",
    "\n",
    "    #Train the model on X_train and Y_train\n",
    "    model.fit(X_train, Y_train, batch_size= batch_num, nb_epoch=num_epoch, validation_split= val_split)\n",
    "\n",
    "    #Get the time it took to train the model (in seconds)\n",
    "    training_time = int(math.floor(time.time() - start))\n",
    "    return model, training_time"
   ]
  },
  {
   "cell_type": "code",
   "execution_count": null,
   "metadata": {},
   "outputs": [],
   "source": [
    "model = initialize_model(window_size, 0.2, 'softmax', 'mse', 'adam')\n",
    "#print (model.summary())"
   ]
  },
  {
   "cell_type": "code",
   "execution_count": null,
   "metadata": {},
   "outputs": [
    {
     "name": "stderr",
     "output_type": "stream",
     "text": [
      "/Users/samirantonio/anaconda/envs/python3/lib/python3.6/site-packages/keras/models.py:942: UserWarning: The `nb_epoch` argument in `fit` has been renamed `epochs`.\n",
      "  warnings.warn('The `nb_epoch` argument in `fit` '\n"
     ]
    },
    {
     "name": "stdout",
     "output_type": "stream",
     "text": [
      "Train on 829 samples, validate on 44 samples\n",
      "Epoch 1/100\n",
      "829/829 [==============================] - 4s 5ms/step - loss: 0.2141 - mean_absolute_error: 0.4353 - acc: 0.2630 - val_loss: 0.1839 - val_mean_absolute_error: 0.4001 - val_acc: 0.7045\n",
      "Epoch 2/100\n",
      "829/829 [==============================] - 1s 669us/step - loss: 0.1869 - mean_absolute_error: 0.4032 - acc: 0.6695 - val_loss: 0.1633 - val_mean_absolute_error: 0.3696 - val_acc: 0.7045\n",
      "Epoch 3/100\n",
      "829/829 [==============================] - 1s 668us/step - loss: 0.1689 - mean_absolute_error: 0.3756 - acc: 0.6695 - val_loss: 0.1476 - val_mean_absolute_error: 0.3387 - val_acc: 0.7045\n",
      "Epoch 4/100\n",
      "829/829 [==============================] - 1s 678us/step - loss: 0.1557 - mean_absolute_error: 0.3475 - acc: 0.6695 - val_loss: 0.1373 - val_mean_absolute_error: 0.3093 - val_acc: 0.7045\n",
      "Epoch 5/100\n",
      "829/829 [==============================] - 1s 658us/step - loss: 0.1473 - mean_absolute_error: 0.3204 - acc: 0.6695 - val_loss: 0.1312 - val_mean_absolute_error: 0.2884 - val_acc: 0.7045\n",
      "Epoch 6/100\n",
      "829/829 [==============================] - 1s 662us/step - loss: 0.1424 - mean_absolute_error: 0.3011 - acc: 0.6695 - val_loss: 0.1258 - val_mean_absolute_error: 0.2773 - val_acc: 0.7045\n",
      "Epoch 7/100\n",
      "829/829 [==============================] - 1s 668us/step - loss: 0.1373 - mean_absolute_error: 0.2901 - acc: 0.6695 - val_loss: 0.1200 - val_mean_absolute_error: 0.2748 - val_acc: 0.7045\n",
      "Epoch 8/100\n",
      "829/829 [==============================] - 1s 662us/step - loss: 0.1306 - mean_absolute_error: 0.2863 - acc: 0.6695 - val_loss: 0.1159 - val_mean_absolute_error: 0.2787 - val_acc: 0.7045\n",
      "Epoch 9/100\n",
      "829/829 [==============================] - 1s 819us/step - loss: 0.1238 - mean_absolute_error: 0.2871 - acc: 0.6695 - val_loss: 0.1146 - val_mean_absolute_error: 0.2821 - val_acc: 0.8182\n",
      "Epoch 10/100\n",
      "829/829 [==============================] - 1s 816us/step - loss: 0.1211 - mean_absolute_error: 0.2891 - acc: 0.7829 - val_loss: 0.1089 - val_mean_absolute_error: 0.2732 - val_acc: 0.8636\n",
      "Epoch 11/100\n",
      "829/829 [==============================] - 1s 667us/step - loss: 0.1148 - mean_absolute_error: 0.2796 - acc: 0.8166 - val_loss: 0.0977 - val_mean_absolute_error: 0.2512 - val_acc: 0.8636\n",
      "Epoch 12/100\n",
      "829/829 [==============================] - 1s 662us/step - loss: 0.1054 - mean_absolute_error: 0.2600 - acc: 0.8118 - val_loss: 0.0881 - val_mean_absolute_error: 0.2256 - val_acc: 0.8636\n",
      "Epoch 13/100\n",
      "829/829 [==============================] - 1s 662us/step - loss: 0.0988 - mean_absolute_error: 0.2374 - acc: 0.8046 - val_loss: 0.0818 - val_mean_absolute_error: 0.2064 - val_acc: 0.8636\n",
      "Epoch 14/100\n",
      "829/829 [==============================] - 1s 652us/step - loss: 0.0942 - mean_absolute_error: 0.2199 - acc: 0.8046 - val_loss: 0.0766 - val_mean_absolute_error: 0.1932 - val_acc: 0.8409\n",
      "Epoch 15/100\n",
      "829/829 [==============================] - 1s 650us/step - loss: 0.0883 - mean_absolute_error: 0.2065 - acc: 0.8094 - val_loss: 0.0759 - val_mean_absolute_error: 0.1855 - val_acc: 0.7955\n",
      "Epoch 16/100\n",
      "829/829 [==============================] - 1s 739us/step - loss: 0.0853 - mean_absolute_error: 0.1981 - acc: 0.8130 - val_loss: 0.0798 - val_mean_absolute_error: 0.1806 - val_acc: 0.8409\n",
      "Epoch 17/100\n",
      "829/829 [==============================] - 1s 673us/step - loss: 0.0857 - mean_absolute_error: 0.1911 - acc: 0.8154 - val_loss: 0.0815 - val_mean_absolute_error: 0.1714 - val_acc: 0.8409\n",
      "Epoch 18/100\n",
      "829/829 [==============================] - 1s 633us/step - loss: 0.0860 - mean_absolute_error: 0.1814 - acc: 0.8227 - val_loss: 0.0794 - val_mean_absolute_error: 0.1590 - val_acc: 0.8409\n",
      "Epoch 19/100\n",
      "829/829 [==============================] - 1s 620us/step - loss: 0.0865 - mean_absolute_error: 0.1715 - acc: 0.8094 - val_loss: 0.0765 - val_mean_absolute_error: 0.1492 - val_acc: 0.8182\n",
      "Epoch 20/100\n",
      "829/829 [==============================] - 1s 620us/step - loss: 0.0859 - mean_absolute_error: 0.1622 - acc: 0.8179 - val_loss: 0.0739 - val_mean_absolute_error: 0.1431 - val_acc: 0.8182\n",
      "Epoch 21/100\n",
      "829/829 [==============================] - 1s 638us/step - loss: 0.0854 - mean_absolute_error: 0.1566 - acc: 0.8166 - val_loss: 0.0720 - val_mean_absolute_error: 0.1400 - val_acc: 0.8636\n",
      "Epoch 22/100\n",
      "829/829 [==============================] - 1s 623us/step - loss: 0.0849 - mean_absolute_error: 0.1546 - acc: 0.8203 - val_loss: 0.0708 - val_mean_absolute_error: 0.1391 - val_acc: 0.8636\n",
      "Epoch 23/100\n",
      "829/829 [==============================] - 1s 646us/step - loss: 0.0825 - mean_absolute_error: 0.1527 - acc: 0.8275 - val_loss: 0.0706 - val_mean_absolute_error: 0.1406 - val_acc: 0.8409\n",
      "Epoch 24/100\n",
      "829/829 [==============================] - 1s 737us/step - loss: 0.0804 - mean_absolute_error: 0.1537 - acc: 0.8335 - val_loss: 0.0712 - val_mean_absolute_error: 0.1449 - val_acc: 0.8409\n",
      "Epoch 25/100\n",
      "829/829 [==============================] - 1s 659us/step - loss: 0.0777 - mean_absolute_error: 0.1558 - acc: 0.8311 - val_loss: 0.0710 - val_mean_absolute_error: 0.1500 - val_acc: 0.8409\n",
      "Epoch 26/100\n",
      "829/829 [==============================] - 1s 620us/step - loss: 0.0761 - mean_absolute_error: 0.1601 - acc: 0.8359 - val_loss: 0.0694 - val_mean_absolute_error: 0.1536 - val_acc: 0.8182\n",
      "Epoch 27/100\n",
      "829/829 [==============================] - 1s 639us/step - loss: 0.0748 - mean_absolute_error: 0.1634 - acc: 0.8408 - val_loss: 0.0664 - val_mean_absolute_error: 0.1542 - val_acc: 0.8636\n",
      "Epoch 28/100\n",
      "829/829 [==============================] - 1s 681us/step - loss: 0.0724 - mean_absolute_error: 0.1645 - acc: 0.8492 - val_loss: 0.0640 - val_mean_absolute_error: 0.1540 - val_acc: 0.8864\n",
      "Epoch 29/100\n",
      "829/829 [==============================] - 1s 647us/step - loss: 0.0715 - mean_absolute_error: 0.1649 - acc: 0.8552 - val_loss: 0.0629 - val_mean_absolute_error: 0.1547 - val_acc: 0.8864\n",
      "Epoch 30/100\n",
      "829/829 [==============================] - 1s 649us/step - loss: 0.0720 - mean_absolute_error: 0.1672 - acc: 0.8552 - val_loss: 0.0629 - val_mean_absolute_error: 0.1571 - val_acc: 0.8864\n",
      "Epoch 31/100\n",
      "829/829 [==============================] - 1s 623us/step - loss: 0.0709 - mean_absolute_error: 0.1686 - acc: 0.8589 - val_loss: 0.0635 - val_mean_absolute_error: 0.1606 - val_acc: 0.8864\n",
      "Epoch 32/100\n",
      "829/829 [==============================] - 1s 626us/step - loss: 0.0701 - mean_absolute_error: 0.1712 - acc: 0.8625 - val_loss: 0.0642 - val_mean_absolute_error: 0.1630 - val_acc: 0.8864\n",
      "Epoch 33/100\n",
      "829/829 [==============================] - 1s 610us/step - loss: 0.0687 - mean_absolute_error: 0.1712 - acc: 0.8661 - val_loss: 0.0642 - val_mean_absolute_error: 0.1609 - val_acc: 0.8864\n",
      "Epoch 34/100\n",
      "829/829 [==============================] - 1s 647us/step - loss: 0.0675 - mean_absolute_error: 0.1685 - acc: 0.8637 - val_loss: 0.0627 - val_mean_absolute_error: 0.1530 - val_acc: 0.8864\n",
      "Epoch 35/100\n",
      "829/829 [==============================] - 1s 707us/step - loss: 0.0669 - mean_absolute_error: 0.1617 - acc: 0.8661 - val_loss: 0.0609 - val_mean_absolute_error: 0.1429 - val_acc: 0.8864\n",
      "Epoch 36/100\n",
      "829/829 [==============================] - 1s 773us/step - loss: 0.0659 - mean_absolute_error: 0.1528 - acc: 0.8649 - val_loss: 0.0596 - val_mean_absolute_error: 0.1343 - val_acc: 0.8864\n",
      "Epoch 37/100\n",
      "829/829 [==============================] - 1s 679us/step - loss: 0.0652 - mean_absolute_error: 0.1454 - acc: 0.8733 - val_loss: 0.0592 - val_mean_absolute_error: 0.1285 - val_acc: 0.8864\n",
      "Epoch 38/100\n",
      "829/829 [==============================] - 1s 720us/step - loss: 0.0647 - mean_absolute_error: 0.1397 - acc: 0.8733 - val_loss: 0.0595 - val_mean_absolute_error: 0.1252 - val_acc: 0.8864\n",
      "Epoch 39/100\n",
      "829/829 [==============================] - 1s 799us/step - loss: 0.0644 - mean_absolute_error: 0.1362 - acc: 0.8721 - val_loss: 0.0604 - val_mean_absolute_error: 0.1237 - val_acc: 0.8864\n",
      "Epoch 40/100\n",
      "829/829 [==============================] - 1s 807us/step - loss: 0.0632 - mean_absolute_error: 0.1322 - acc: 0.8770 - val_loss: 0.0610 - val_mean_absolute_error: 0.1228 - val_acc: 0.8636\n",
      "Epoch 41/100\n",
      "829/829 [==============================] - 1s 932us/step - loss: 0.0636 - mean_absolute_error: 0.1315 - acc: 0.8721 - val_loss: 0.0605 - val_mean_absolute_error: 0.1213 - val_acc: 0.8864\n"
     ]
    },
    {
     "name": "stdout",
     "output_type": "stream",
     "text": [
      "Epoch 42/100\n",
      "829/829 [==============================] - 1s 751us/step - loss: 0.0634 - mean_absolute_error: 0.1299 - acc: 0.8782 - val_loss: 0.0595 - val_mean_absolute_error: 0.1200 - val_acc: 0.8864\n",
      "Epoch 43/100\n",
      "829/829 [==============================] - 1s 740us/step - loss: 0.0625 - mean_absolute_error: 0.1292 - acc: 0.8770 - val_loss: 0.0579 - val_mean_absolute_error: 0.1186 - val_acc: 0.8864\n",
      "Epoch 44/100\n",
      "829/829 [==============================] - 1s 716us/step - loss: 0.0624 - mean_absolute_error: 0.1292 - acc: 0.8758 - val_loss: 0.0565 - val_mean_absolute_error: 0.1182 - val_acc: 0.9091\n",
      "Epoch 45/100\n",
      "829/829 [==============================] - 1s 671us/step - loss: 0.0616 - mean_absolute_error: 0.1295 - acc: 0.8866 - val_loss: 0.0559 - val_mean_absolute_error: 0.1195 - val_acc: 0.9091\n",
      "Epoch 46/100\n",
      "829/829 [==============================] - 1s 685us/step - loss: 0.0612 - mean_absolute_error: 0.1308 - acc: 0.8842 - val_loss: 0.0556 - val_mean_absolute_error: 0.1222 - val_acc: 0.9091\n",
      "Epoch 47/100\n",
      "829/829 [==============================] - 1s 928us/step - loss: 0.0608 - mean_absolute_error: 0.1332 - acc: 0.8842 - val_loss: 0.0552 - val_mean_absolute_error: 0.1251 - val_acc: 0.9091\n",
      "Epoch 48/100\n",
      "829/829 [==============================] - 1s 872us/step - loss: 0.0612 - mean_absolute_error: 0.1368 - acc: 0.8866 - val_loss: 0.0547 - val_mean_absolute_error: 0.1258 - val_acc: 0.9091\n",
      "Epoch 49/100\n",
      "829/829 [==============================] - 1s 723us/step - loss: 0.0616 - mean_absolute_error: 0.1382 - acc: 0.8842 - val_loss: 0.0538 - val_mean_absolute_error: 0.1224 - val_acc: 0.9091\n",
      "Epoch 50/100\n",
      "829/829 [==============================] - 1s 699us/step - loss: 0.0612 - mean_absolute_error: 0.1353 - acc: 0.8830 - val_loss: 0.0532 - val_mean_absolute_error: 0.1180 - val_acc: 0.9091\n",
      "Epoch 51/100\n",
      "829/829 [==============================] - 1s 836us/step - loss: 0.0605 - mean_absolute_error: 0.1311 - acc: 0.8842 - val_loss: 0.0531 - val_mean_absolute_error: 0.1137 - val_acc: 0.9091\n",
      "Epoch 52/100\n",
      "829/829 [==============================] - 1s 689us/step - loss: 0.0604 - mean_absolute_error: 0.1271 - acc: 0.8854 - val_loss: 0.0534 - val_mean_absolute_error: 0.1108 - val_acc: 0.9091\n",
      "Epoch 53/100\n",
      "829/829 [==============================] - 1s 715us/step - loss: 0.0594 - mean_absolute_error: 0.1227 - acc: 0.8830 - val_loss: 0.0537 - val_mean_absolute_error: 0.1087 - val_acc: 0.9091\n",
      "Epoch 54/100\n",
      "829/829 [==============================] - 1s 740us/step - loss: 0.0602 - mean_absolute_error: 0.1218 - acc: 0.8818 - val_loss: 0.0536 - val_mean_absolute_error: 0.1071 - val_acc: 0.9091\n",
      "Epoch 55/100\n",
      "829/829 [==============================] - 1s 757us/step - loss: 0.0603 - mean_absolute_error: 0.1200 - acc: 0.8830 - val_loss: 0.0529 - val_mean_absolute_error: 0.1057 - val_acc: 0.9091\n",
      "Epoch 56/100\n",
      "829/829 [==============================] - 1s 769us/step - loss: 0.0597 - mean_absolute_error: 0.1187 - acc: 0.8866 - val_loss: 0.0523 - val_mean_absolute_error: 0.1051 - val_acc: 0.9091\n",
      "Epoch 57/100\n",
      "829/829 [==============================] - 1s 794us/step - loss: 0.0603 - mean_absolute_error: 0.1193 - acc: 0.8854 - val_loss: 0.0517 - val_mean_absolute_error: 0.1055 - val_acc: 0.9091\n",
      "Epoch 58/100\n",
      "829/829 [==============================] - 1s 773us/step - loss: 0.0599 - mean_absolute_error: 0.1197 - acc: 0.8830 - val_loss: 0.0513 - val_mean_absolute_error: 0.1068 - val_acc: 0.9091\n",
      "Epoch 59/100\n",
      "829/829 [==============================] - 1s 713us/step - loss: 0.0596 - mean_absolute_error: 0.1221 - acc: 0.8878 - val_loss: 0.0510 - val_mean_absolute_error: 0.1084 - val_acc: 0.9091\n",
      "Epoch 60/100\n",
      "829/829 [==============================] - 1s 712us/step - loss: 0.0597 - mean_absolute_error: 0.1236 - acc: 0.8902 - val_loss: 0.0507 - val_mean_absolute_error: 0.1089 - val_acc: 0.9091\n",
      "Epoch 61/100\n",
      "829/829 [==============================] - 1s 815us/step - loss: 0.0597 - mean_absolute_error: 0.1240 - acc: 0.8770 - val_loss: 0.0505 - val_mean_absolute_error: 0.1085 - val_acc: 0.9091\n",
      "Epoch 62/100\n",
      "829/829 [==============================] - 1s 754us/step - loss: 0.0596 - mean_absolute_error: 0.1243 - acc: 0.8854 - val_loss: 0.0506 - val_mean_absolute_error: 0.1077 - val_acc: 0.9091\n",
      "Epoch 63/100\n",
      "829/829 [==============================] - 1s 732us/step - loss: 0.0591 - mean_absolute_error: 0.1227 - acc: 0.8914 - val_loss: 0.0506 - val_mean_absolute_error: 0.1064 - val_acc: 0.9091\n",
      "Epoch 64/100\n"
     ]
    }
   ],
   "source": [
    "model, training_time = fit_model(model, X_train, Y_train, 1024, 100, .05)\n",
    "\n",
    "#Print the training time\n",
    "print (\"Training time\", training_time, \"seconds\")"
   ]
  },
  {
   "cell_type": "code",
   "execution_count": null,
   "metadata": {
    "collapsed": true
   },
   "outputs": [],
   "source": []
  }
 ],
 "metadata": {
  "kernelspec": {
   "display_name": "Python 3",
   "language": "python",
   "name": "python3"
  },
  "language_info": {
   "codemirror_mode": {
    "name": "ipython",
    "version": 3
   },
   "file_extension": ".py",
   "mimetype": "text/x-python",
   "name": "python",
   "nbconvert_exporter": "python",
   "pygments_lexer": "ipython3",
   "version": "3.6.1"
  }
 },
 "nbformat": 4,
 "nbformat_minor": 2
}

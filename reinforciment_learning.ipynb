{
 "cells": [
  {
   "cell_type": "code",
   "execution_count": 15,
   "metadata": {
    "scrolled": true
   },
   "outputs": [],
   "source": [
    "import os\n",
    "import json\n",
    "import io\n",
    "from data_generator import DataGenerator\n",
    "from trade_env import TraderEnv\n",
    "from blog_ai import A3CAgent\n",
    "from async_rl import *\n",
    "import time\n",
    "import numpy as np\n",
    "from multiprocessing import *\n",
    "from collections import deque\n",
    "import matplotlib.pyplot as plt\n"
   ]
  },
  {
   "cell_type": "code",
   "execution_count": 16,
   "metadata": {},
   "outputs": [],
   "source": [
    "stage_length_var = 10\n",
    "def get_enviroment():\n",
    "    return TraderEnv(DataGenerator(random=False, first_index=10170), stage_history_length=stage_length_var)"
   ]
  },
  {
   "cell_type": "code",
   "execution_count": 17,
   "metadata": {},
   "outputs": [],
   "source": [
    "env = get_enviroment()"
   ]
  },
  {
   "cell_type": "code",
   "execution_count": 18,
   "metadata": {},
   "outputs": [
    {
     "name": "stdout",
     "output_type": "stream",
     "text": [
      "0 3 17341.72 17341.72 0  ---  17341.0 17341.72 0 0.01002\n",
      "1 3 17341.72 17341.72 0  ---  17341.0 17341.72 0 0.010029999999999999\n",
      "2 3 17341.72 17341.72 0  ---  17341.0 17341.72 0 0.010039999999999999\n",
      "3 3 17341.72 17341.72 0  ---  17341.0 17341.72 0 0.010049999999999998\n",
      "4 3 17341.72 17341.72 0  ---  17341.0 17341.72 0 0.010059999999999998\n",
      "5 3 17341.72 17341.72 0  ---  17341.0 17341.72 0 0.010069999999999997\n",
      "6 3 17341.72 17341.72 0  ---  17341.0 17341.72 0 0.010079999999999997\n",
      "7 3 17341.72 17341.72 0  ---  17341.0 17341.72 0 0.007079999999999997\n",
      "8 3 17341.0 17341.72 0  ---  17341.01 17341.72 0 0.004045401116390537\n",
      "9 3 17341.72 17341.72 0  ---  17341.0 17341.72 0 0.004055401116390536\n",
      "10 3 17341.72 17341.72 0  ---  17341.0 17341.72 0 0.004065401116390536\n",
      "11 3 17341.72 17341.72 0  ---  17341.0 17341.72 0 0.004075401116390535\n",
      "12 3 17341.72 17341.72 0  ---  17341.01 17341.72 0 0.004085401116390535\n",
      "13 3 17341.72 17341.72 0  ---  17341.0 17341.72 0 0.004095401116390535\n",
      "14 3 17349.55 17341.72 0  ---  17341.01 17349.99 0 0.004105401116390534\n",
      "15 3 17349.99 17341.72 0  ---  17341.02 17349.99 0 0.004115401116390534\n",
      "16 3 17351.96 17341.72 0  ---  17341.73 17352.58 0 0.004125401116390533\n",
      "17 3 17341.73 17341.72 0  ---  17331.02 17352.58 0 0.0010027832518903481\n",
      "18 3 17352.58 17341.72 0  ---  17343.31 17352.58 0 0.0010127832518903482\n",
      "19 3 17352.58 17341.72 0  ---  17343.31 17352.58 0 0.0010227832518903482\n",
      "20 3 17356.45 17341.72 0  ---  17356.45 17359.56 0 0.0010327832518903482\n",
      "21 3 17363.88 17341.72 0  ---  17356.45 17366.47 0 0.0010427832518903482\n",
      "22 3 17366.47 17341.72 0  ---  17358.64 17367.16 0 0.0010527832518903483\n",
      "23 3 17368.87 17341.72 0  ---  17356.46 17366.47 0 0.0010627832518903483\n",
      "24 2 17356.46 17341.72 17356.46  ---  17356.46 17366.47 0 0.008012175133406896\n",
      "########################################################### Profite: 14.739999999997963 current reward 157.39999999997963\n",
      "25 0 17372.49 0 0  ---  17356.46 17372.96 14.739999999997963 157.40422520767405\n",
      "26 0 17373.8 0 0  ---  17356.46 17373.8 14.739999999997963 157.40048345561564\n",
      "27 0 17356.46 0 0  ---  17356.46 17373.8 14.739999999997963 157.40049345561565\n",
      "28 0 17375.0 0 0  ---  17360.03 17375.0 14.739999999997963 157.39686975750627\n",
      "29 0 17375.0 0 0  ---  17360.04 17375.0 14.739999999997963 157.39335371196412\n"
     ]
    },
    {
     "data": {
      "image/png": "[encoded data removed]",
      "text/plain": [
       "<matplotlib.figure.Figure at 0x7f3809e6e908>"
      ]
     },
     "metadata": {},
     "output_type": "display_data"
    }
   ],
   "source": [
    "prices = []\n",
    "env.step(1)\n",
    "for i in range(30): \n",
    "    if i == 24:\n",
    "        env.step(2)\n",
    "    else:\n",
    "        env.step(0)\n",
    "    print(i, env._position, env.current[\"price\"], env._entry_price, env._exit_price, \" --- \",  env.get_order_sell_value(), env.get_order_buy_value(), env.total_profite, env._total_reward)\n",
    "    prices.append(env.current[\"price\"])\n",
    "    \n",
    "    \n",
    "plt.plot(prices)\n",
    "plt.ylabel('some numbers')\n",
    "plt.show()"
   ]
  },
  {
   "cell_type": "code",
   "execution_count": 19,
   "metadata": {},
   "outputs": [
    {
     "data": {
      "text/plain": [
       "157.39335371196412"
      ]
     },
     "execution_count": 19,
     "metadata": {},
     "output_type": "execute_result"
    }
   ],
   "source": [
    "env._total_reward"
   ]
  },
  {
   "cell_type": "code",
   "execution_count": 10,
   "metadata": {},
   "outputs": [
    {
     "data": {
      "text/plain": [
       "2"
      ]
     },
     "execution_count": 10,
     "metadata": {},
     "output_type": "execute_result"
    }
   ],
   "source": [
    "argmax([0.2, 0.6, 0.7])"
   ]
  }
 ],
 "metadata": {
  "kernelspec": {
   "display_name": "Python 3",
   "language": "python",
   "name": "python3"
  },
  "language_info": {
   "codemirror_mode": {
    "name": "ipython",
    "version": 3
   },
   "file_extension": ".py",
   "mimetype": "text/x-python",
   "name": "python",
   "nbconvert_exporter": "python",
   "pygments_lexer": "ipython3",
   "version": "3.6.3"
  }
 },
 "nbformat": 4,
 "nbformat_minor": 2
}

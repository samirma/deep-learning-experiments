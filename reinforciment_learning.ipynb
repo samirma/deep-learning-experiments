{
 "cells": [
  {
   "cell_type": "code",
   "execution_count": 1,
   "metadata": {
    "scrolled": true
   },
   "outputs": [
    {
     "name": "stderr",
     "output_type": "stream",
     "text": [
      "/Users/samirantonio/anaconda/envs/python3/lib/python3.6/importlib/_bootstrap.py:205: RuntimeWarning: compiletime version 3.5 of module 'tensorflow.python.framework.fast_tensor_util' does not match runtime version 3.6\n",
      "  return f(*args, **kwds)\n",
      "Using TensorFlow backend.\n"
     ]
    }
   ],
   "source": [
    "import os\n",
    "import json\n",
    "import io\n",
    "from data_generator import DataGenerator\n",
    "from trade_env import TraderEnv\n",
    "from blog_ai import A3CAgent\n",
    "from async_rl import *\n",
    "import time\n",
    "import numpy as np\n",
    "from multiprocessing import *\n",
    "from collections import deque"
   ]
  },
  {
   "cell_type": "code",
   "execution_count": 2,
   "metadata": {
    "collapsed": true
   },
   "outputs": [],
   "source": [
    "stage_length_var = 10\n",
    "def get_enviroment():\n",
    "    return TraderEnv(DataGenerator(), stage_history_length=stage_length_var)"
   ]
  },
  {
   "cell_type": "code",
   "execution_count": 3,
   "metadata": {},
   "outputs": [
    {
     "name": "stdout",
     "output_type": "stream",
     "text": [
      " 26893> Process started\n",
      " 26894> Learning process\n",
      " 26894> Setting weights in dict\n",
      " 26893> Loaded weights from dict\n",
      " 26893> Best:  265; Avg: -155.05; Max:  178\n",
      " 26893> Best:  874; Avg:  21.62; Max:  441\n",
      " 26893> Best:  874; Avg: -10.20; Max:  409\n",
      " 26893> Best: 1055; Avg: -93.89; Max: 1055\n",
      "print_exception():\n",
      "Frames:     8128; Policy-Loss: -56.640934; Avg:   1.202254 --- Value-Loss: 226.942505; Avg:  78.030334 --- Entropy: 0.062172; Avg: 0.031863 --- V-value; Min:  2.779; Max: 11.282; Avg:  7.65620990\n"
     ]
    },
    {
     "name": "stderr",
     "output_type": "stream",
     "text": [
      "Traceback (most recent call last):\n",
      "  File \"/Users/samirantonio/Desktop/deep-learning-experiments/async_rl.py\", line 309, in generate_experience_proc\n",
      "    update = weight_dict.get('update', 0)\n",
      "  File \"<string>\", line 2, in get\n",
      "  File \"/Users/samirantonio/anaconda/envs/python3/lib/python3.6/multiprocessing/managers.py\", line 757, in _callmethod\n",
      "    kind, result = conn.recv()\n",
      "  File \"/Users/samirantonio/anaconda/envs/python3/lib/python3.6/multiprocessing/connection.py\", line 250, in recv\n",
      "    buf = self._recv_bytes()\n",
      "  File \"/Users/samirantonio/anaconda/envs/python3/lib/python3.6/multiprocessing/connection.py\", line 407, in _recv_bytes\n",
      "    buf = self._recv(4)\n",
      "  File \"/Users/samirantonio/anaconda/envs/python3/lib/python3.6/multiprocessing/connection.py\", line 383, in _recv\n",
      "    raise EOFError\n",
      "EOFError\n"
     ]
    }
   ],
   "source": [
    "manager = Manager()\n",
    "weight_dict = manager.dict()\n",
    "mem_queue = manager.Queue(256)\n",
    "\n",
    "threads = 100\n",
    "\n",
    "pool = Pool(threads + 1, init_worker)\n",
    "\n",
    "for i in range(threads):\n",
    "    pool.apply_async(generate_experience_proc, (mem_queue, weight_dict, i, get_enviroment))\n",
    "\n",
    "pool.apply_async(learn_proc, (mem_queue, weight_dict, get_enviroment))\n",
    "\n",
    "pool.close()\n",
    "#pool.join()\n"
   ]
  },
  {
   "cell_type": "code",
   "execution_count": null,
   "metadata": {
    "collapsed": true
   },
   "outputs": [],
   "source": []
  },
  {
   "cell_type": "code",
   "execution_count": null,
   "metadata": {
    "collapsed": true
   },
   "outputs": [],
   "source": []
  }
 ],
 "metadata": {
  "kernelspec": {
   "display_name": "Python 3",
   "language": "python",
   "name": "python3"
  },
  "language_info": {
   "codemirror_mode": {
    "name": "ipython",
    "version": 3
   },
   "file_extension": ".py",
   "mimetype": "text/x-python",
   "name": "python",
   "nbconvert_exporter": "python",
   "pygments_lexer": "ipython3",
   "version": "3.6.1"
  }
 },
 "nbformat": 4,
 "nbformat_minor": 2
}

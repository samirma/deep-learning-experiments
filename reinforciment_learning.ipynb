{
 "cells": [
  {
   "cell_type": "code",
   "execution_count": 1,
   "metadata": {
    "scrolled": true
   },
   "outputs": [
    {
     "name": "stderr",
     "output_type": "stream",
     "text": [
      "/Users/samirantonio/anaconda/envs/python3/lib/python3.6/importlib/_bootstrap.py:205: RuntimeWarning: compiletime version 3.5 of module 'tensorflow.python.framework.fast_tensor_util' does not match runtime version 3.6\n",
      "  return f(*args, **kwds)\n",
      "Using TensorFlow backend.\n"
     ]
    }
   ],
   "source": [
    "import os\n",
    "import json\n",
    "import io\n",
    "from data_generator import DataGenerator\n",
    "from trade_env import TraderEnv\n",
    "from blog_ai import A3CAgent\n",
    "from async_rl import *\n",
    "import time\n",
    "import numpy as np\n",
    "from multiprocessing import *\n",
    "from collections import deque"
   ]
  },
  {
   "cell_type": "code",
   "execution_count": 2,
   "metadata": {
    "collapsed": true
   },
   "outputs": [],
   "source": [
    "stage_length_var = 10\n",
    "def get_enviroment():\n",
    "    return TraderEnv(DataGenerator(), stage_history_length=stage_length_var)"
   ]
  },
  {
   "cell_type": "code",
   "execution_count": 3,
   "metadata": {},
   "outputs": [
    {
     "name": "stdout",
     "output_type": "stream",
     "text": [
      " 30859> Process started\n",
      " 30865> Process started\n",
      " 30863> Process started\n",
      " 30868> Process started\n",
      " 30869> Process started\n",
      " 30870> Process started\n",
      " 30872> Process started\n",
      " 30871> Process started\n",
      " 30873> Process started\n",
      " 30875> Process started\n",
      " 30874> Process started\n",
      " 30876> Process started\n",
      " 30882> Process started\n",
      " 30886> Process started\n",
      " 30888> Process started\n",
      "learn_proc\n",
      " 30891> Learning process\n",
      " 30891> Setting weights in dict\n",
      " 30873> Loaded weights from dict\n",
      " 30872> Loaded weights from dict\n",
      " 30876> Loaded weights from dict\n",
      " 30868> Loaded weights from dict\n",
      " 30875> Loaded weights from dict\n",
      " 30859> Loaded weights from dict\n",
      " 30888> Loaded weights from dict\n",
      " 30874> Loaded weights from dict\n",
      " 30865> Loaded weights from dict\n",
      " 30863> Loaded weights from dict\n",
      " 30871> Loaded weights from dict\n",
      " 30886> Loaded weights from dict\n",
      " 30870> Loaded weights from dict\n",
      " 30882> Loaded weights from dict\n",
      " 30869> Loaded weights from dict\n",
      " 30888> Best:  196; Avg:  36.37; Max:  181\n",
      " 30872> Best: 1346; Avg: 150.48; Max: 1346\n",
      " 30868> Best:  400; Avg:  76.49; Max:  392\n",
      " 30876> Best: 5315; Avg: 548.09; Max: 5315\n",
      " 30873> Best:  826; Avg: 103.33; Max:  826\n",
      " 30875> Best:  227; Avg:  35.99; Max:  215\n",
      " 30865> Best:  484; Avg:  70.30; Max:  477\n",
      " 30882> Best:  697; Avg: 102.82; Max:  694\n",
      " 30859> Best: 2812; Avg: 286.74; Max: 2809\n",
      " 30874> Best:  762; Avg: 105.11; Max:  760\n",
      " 30869> Best:  253; Avg:  50.73; Max:  246\n",
      " 30870> Best: 3909; Avg: 525.93; Max: 3909\n",
      " 30886> Best:  173; Avg:  20.01; Max:  173\n",
      " 30871> Best: 22178; Avg:  46.19; Max:  248\n",
      " 30863> Best:  267; Avg:  44.40; Max:  267\n",
      " 30872> Best: 1346; Avg: 139.85; Max: 1346\n",
      " 30888> Best: 5150; Avg: 403.78; Max: 5134\n",
      " 30868> Best: 2414; Avg: 287.69; Max: 2411\n",
      " 30875> Best: 7308; Avg: 467.36; Max: 7298\n",
      " 30865> Best:  518; Avg: 103.53; Max:  518\n",
      " 30886> Best: 5850; Avg: 356.73; Max: 5534\n",
      " 30873> Best: 1595; Avg: 198.46; Max: 1595\n",
      " 30882> Best: 2463; Avg: 262.78; Max: 2463\n",
      " 30876> Best: 5315; Avg: 388.91; Max: 5315\n",
      " 30869> Best: 1429; Avg: 114.99; Max: 1113\n",
      " 30859> Best: 11709; Avg: 878.53; Max: 11709\n",
      " 30871> Best: 23097; Avg: 1515.66; Max: 23097\n",
      " 30870> Best: 3909; Avg: 490.94; Max: 3909\n",
      " 30874> Best: 4689; Avg: 336.68; Max: 4375\n",
      " 30863> Best:  699; Avg:  66.13; Max:  699\n",
      "print_exception():\n",
      "print_exception():\n",
      "print_exception():\n",
      "print_exception():\n",
      "print_exception():\n",
      "print_exception():\n",
      "print_exception():\n",
      "print_exception():\n",
      "print_exception():\n",
      "print_exception():\n"
     ]
    },
    {
     "name": "stderr",
     "output_type": "stream",
     "text": [
      "Traceback (most recent call last):\n"
     ]
    },
    {
     "name": "stdout",
     "output_type": "stream",
     "text": [
      "print_exception():\n"
     ]
    },
    {
     "name": "stderr",
     "output_type": "stream",
     "text": [
      "  File \"/Users/samirantonio/Desktop/deep-learning-experiments/async_rl.py\", line 308, in generate_experience_proc\n",
      "    agent.sars_data(action, reward, observation, done, mem_queue)\n"
     ]
    },
    {
     "name": "stdout",
     "output_type": "stream",
     "text": [
      "print_exception():\n"
     ]
    },
    {
     "name": "stderr",
     "output_type": "stream",
     "text": [
      "Traceback (most recent call last):\n",
      "Traceback (most recent call last):\n"
     ]
    },
    {
     "name": "stdout",
     "output_type": "stream",
     "text": [
      "print_exception():\n"
     ]
    },
    {
     "name": "stderr",
     "output_type": "stream",
     "text": [
      "Traceback (most recent call last):\n",
      "Traceback (most recent call last):\n",
      "  File \"/Users/samirantonio/Desktop/deep-learning-experiments/async_rl.py\", line 308, in generate_experience_proc\n",
      "    agent.sars_data(action, reward, observation, done, mem_queue)\n"
     ]
    },
    {
     "name": "stdout",
     "output_type": "stream",
     "text": [
      "print_exception():\n"
     ]
    },
    {
     "name": "stderr",
     "output_type": "stream",
     "text": [
      "  File \"/Users/samirantonio/Desktop/deep-learning-experiments/async_rl.py\", line 237, in sars_data\n",
      "    mem_queue.put((self.n_step_observations[i], self.n_step_actions[i], r))\n",
      "Traceback (most recent call last):\n"
     ]
    },
    {
     "name": "stdout",
     "output_type": "stream",
     "text": [
      "print_exception():\n"
     ]
    },
    {
     "name": "stderr",
     "output_type": "stream",
     "text": [
      "Traceback (most recent call last):\n",
      "  File \"/Users/samirantonio/Desktop/deep-learning-experiments/async_rl.py\", line 308, in generate_experience_proc\n",
      "    agent.sars_data(action, reward, observation, done, mem_queue)\n"
     ]
    }
   ],
   "source": [
    "manager = Manager()\n",
    "weight_dict = manager.dict()\n",
    "mem_queue = manager.Queue(256)\n",
    "\n",
    "threads = 32\n",
    "\n",
    "try:\n",
    "\n",
    "    pool = Pool(threads + 1, init_worker)\n",
    "\n",
    "    for i in range(threads):\n",
    "        pool.apply_async(generate_experience_proc, (mem_queue, weight_dict, i, get_enviroment))\n",
    "\n",
    "    pool.apply_async(learn_proc, (mem_queue, weight_dict, get_enviroment))\n",
    "\n",
    "    pool.close()\n",
    "    pool.join()\n",
    "\n",
    "except KeyboardInterrupt:\n",
    "    pool.terminate()\n",
    "    pool.join()"
   ]
  },
  {
   "cell_type": "code",
   "execution_count": null,
   "metadata": {
    "collapsed": true
   },
   "outputs": [],
   "source": []
  },
  {
   "cell_type": "code",
   "execution_count": null,
   "metadata": {
    "collapsed": true
   },
   "outputs": [],
   "source": []
  }
 ],
 "metadata": {
  "kernelspec": {
   "display_name": "Python 3",
   "language": "python",
   "name": "python3"
  },
  "language_info": {
   "codemirror_mode": {
    "name": "ipython",
    "version": 3
   },
   "file_extension": ".py",
   "mimetype": "text/x-python",
   "name": "python",
   "nbconvert_exporter": "python",
   "pygments_lexer": "ipython3",
   "version": "3.6.1"
  }
 },
 "nbformat": 4,
 "nbformat_minor": 2
}

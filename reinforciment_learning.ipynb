{
 "cells": [
  {
   "cell_type": "code",
   "execution_count": 1,
   "metadata": {
    "scrolled": true
   },
   "outputs": [
    {
     "name": "stderr",
     "output_type": "stream",
     "text": [
      "/Users/samirantonio/anaconda/envs/python3/lib/python3.6/importlib/_bootstrap.py:205: RuntimeWarning: compiletime version 3.5 of module 'tensorflow.python.framework.fast_tensor_util' does not match runtime version 3.6\n",
      "  return f(*args, **kwds)\n",
      "Using TensorFlow backend.\n"
     ]
    }
   ],
   "source": [
    "import os\n",
    "import json\n",
    "import io\n",
    "from data_generator import DataGenerator\n",
    "from trade_env import TraderEnv\n",
    "from blog_ai import A3CAgent\n",
    "from async_rl import *\n",
    "import time\n",
    "import numpy as np\n",
    "from multiprocessing import *\n",
    "from collections import deque"
   ]
  },
  {
   "cell_type": "code",
   "execution_count": null,
   "metadata": {
    "collapsed": true
   },
   "outputs": [],
   "source": [
    "stage_length_var = 10\n",
    "def get_enviroment():\n",
    "    return TraderEnv(DataGenerator(), stage_history_length=stage_length_var)"
   ]
  },
  {
   "cell_type": "code",
   "execution_count": null,
   "metadata": {},
   "outputs": [
    {
     "name": "stdout",
     "output_type": "stream",
     "text": [
      " 30453> Process started\n",
      " 30454> Process started\n",
      " 30456> Process started\n",
      " 30455> Process started\n",
      " 30457> Process started\n",
      " 30458> Process started\n",
      " 30459> Process started\n",
      " 30460> Process started\n",
      " 30462> Process started\n",
      " 30463> Process started\n",
      " 30461> Process started\n",
      " 30467> Process started\n",
      " 30466> Process started\n",
      " 30464> Process started\n",
      " 30465> Process started\n",
      " 30468> Process started\n",
      "learn_proc\n",
      " 30469> Learning process\n",
      " 30469> Setting weights in dict\n",
      " 30468> Loaded weights from dict\n",
      " 30466> Loaded weights from dict\n",
      " 30465> Loaded weights from dict\n",
      " 30454> Loaded weights from dict\n",
      " 30455> Loaded weights from dict\n",
      " 30460> Loaded weights from dict\n",
      " 30459> Loaded weights from dict\n",
      " 30453> Loaded weights from dict\n",
      " 30461> Loaded weights from dict\n",
      " 30457> Loaded weights from dict\n",
      " 30456> Loaded weights from dict\n",
      " 30462> Loaded weights from dict\n",
      " 30463> Loaded weights from dict\n",
      " 30467> Loaded weights from dict\n",
      " 30458> Loaded weights from dict\n",
      " 30464> Loaded weights from dict\n",
      " 30460> Best: 1367; Avg:  43.14; Max: 1067\n",
      " 30466> Best: 1481; Avg:  98.85; Max: 1178\n",
      " 30465> Best: 1203; Avg: -40.95; Max:  901\n",
      " 30468> Best: 1549; Avg: -96.89; Max: 1246\n",
      " 30459> Best:  517; Avg: -137.35; Max:  507\n",
      " 30454> Best: 1998; Avg: 256.45; Max: 1998\n",
      " 30455> Best:  711; Avg: -51.86; Max:  430\n",
      " 30458> Best: 1187; Avg:  54.55; Max:  886\n",
      " 30456> Best: 1436; Avg:  -5.34; Max: 1137\n",
      " 30463> Best: 1865; Avg: -22.50; Max: 1566\n",
      " 30461> Best: 1515; Avg:  43.54; Max: 1217\n",
      " 30464> Best: 1112; Avg: -115.33; Max:  221\n",
      " 30467> Best: 1141; Avg:  54.96; Max: 1141\n",
      " 30457> Best: 2697; Avg:  25.13; Max: 1265\n",
      " 30453> Best: 1610; Avg:  26.52; Max: 1311\n",
      " 30462> Best: 5498; Avg: 180.01; Max: 5199\n",
      " 30460> Best: 1367; Avg:  26.96; Max: 1067\n",
      " 30466> Best: 1636; Avg: 198.89; Max: 1337\n",
      " 30465> Best: 4001; Avg:  78.05; Max: 3700\n",
      " 30468> Best: 1983; Avg:  47.83; Max: 1683\n",
      " 30454> Best: 2193; Avg: 179.51; Max: 2193\n",
      " 30459> Best:  573; Avg: -97.51; Max:  507\n",
      " 30456> Best: 1436; Avg:   0.41; Max:  760\n",
      " 30461> Best: 1515; Avg: 100.50; Max: 1217\n",
      " 30463> Best: 1865; Avg: -16.29; Max: 1566\n",
      " 30458> Best: 1915; Avg: 158.50; Max: 1611\n",
      " 30455> Best: 1009; Avg:  -3.16; Max:  945\n",
      " 30464> Best: 2435; Avg:  98.89; Max: 2420\n",
      " 30457> Best: 2706; Avg: 156.56; Max: 2407\n",
      " 30467> Best: 1874; Avg: 123.29; Max: 1573\n",
      " 30453> Best: 2937; Avg: 209.47; Max: 2638\n",
      " 30462> Best: 5498; Avg: 217.31; Max: 5199\n",
      " 30466> Best: 2807; Avg: 390.89; Max: 2507\n",
      " 30465> Best: 30350; Avg: 1458.58; Max: 30051\n",
      " 30454> Best: 2193; Avg: 160.42; Max: 2193\n",
      " 30460> Best: 5399; Avg: 456.07; Max: 5100\n",
      " 30468> Best: 2246; Avg: 210.63; Max: 1947\n",
      " 30461> Best: 9804; Avg: 633.52; Max: 9505\n",
      " 30456> Best: 1436; Avg:  88.24; Max: 1167\n",
      " 30463> Best: 1865; Avg:  54.02; Max:  756\n",
      " 30458> Best: 2972; Avg: 193.97; Max: 1611\n",
      " 30459> Best: 3673; Avg: 112.43; Max: 1914\n",
      " 30467> Best: 1874; Avg: 205.68; Max: 1573\n",
      " 30455> Best: 3751; Avg: 313.56; Max: 3452\n",
      " 30464> Best: 3378; Avg: 266.39; Max: 2839\n",
      " 30453> Best: 6847; Avg: 530.76; Max: 6548\n",
      " 30457> Best: 2706; Avg: 104.37; Max: 1313\n",
      " 30462> Best: 5498; Avg:  49.07; Max: 1132\n",
      " 30465> Best: 30350; Avg: 1760.97; Max: 30051\n",
      " 30466> Best: 2807; Avg: 240.29; Max: 2507\n",
      " 30460> Best: 5399; Avg: 373.45; Max: 5100\n",
      " 30454> Best: 2193; Avg: 172.84; Max: 1841\n",
      " 30456> Best: 7126; Avg: 443.52; Max: 6826\n",
      " 30459> Best: 3694; Avg: 423.97; Max: 3694\n",
      " 30468> Best: 2246; Avg: 194.68; Max: 1947\n",
      " 30461> Best: 9804; Avg: 722.15; Max: 9505\n",
      " 30467> Best: 1874; Avg: 111.48; Max: 1041\n",
      " 30455> Best: 3751; Avg: 417.38; Max: 3452\n",
      " 30464> Best: 4974; Avg: 394.29; Max: 4675\n",
      " 30463> Best: 4142; Avg: 363.32; Max: 3843\n",
      " 30453> Best: 6847; Avg: 522.41; Max: 6548\n",
      " 30458> Best: 2972; Avg: 180.51; Max: 2662\n",
      " 30462> Best: 5498; Avg: -11.58; Max:  322\n",
      " 30457> Best: 2706; Avg: 174.37; Max: 1784\n",
      " 30465> Best: 30350; Avg: 880.00; Max: 10282\n",
      " 30466> Best: 2807; Avg:  85.77; Max: 1250\n",
      " 30454> Best: 4962; Avg: 421.04; Max: 4962\n",
      " 30468> Best: 2246; Avg: 223.29; Max: 1300\n",
      " 30456> Best: 7126; Avg: 560.29; Max: 6826\n",
      " 30467> Best: 6375; Avg: 483.54; Max: 6074\n",
      " 30455> Best: 3751; Avg: 517.60; Max: 3452\n",
      " 30460> Best: 5399; Avg: 313.36; Max: 2796\n",
      " 30459> Best: 4834; Avg: 988.95; Max: 4533\n",
      " 30461> Best: 9804; Avg: 808.18; Max: 9505\n",
      " 30458> Best: 4781; Avg: 494.12; Max: 4781\n",
      " 30463> Best: 4142; Avg: 480.24; Max: 3843\n",
      " 30464> Best: 4974; Avg: 459.10; Max: 4675\n",
      " 30453> Best: 6847; Avg: 920.82; Max: 6548\n",
      " 30462> Best: 5498; Avg: 204.96; Max: 2175\n",
      " 30457> Best: 4419; Avg: 429.85; Max: 4419\n"
     ]
    }
   ],
   "source": [
    "manager = Manager()\n",
    "weight_dict = manager.dict()\n",
    "mem_queue = manager.Queue(256)\n",
    "\n",
    "threads = 16\n",
    "\n",
    "pool = Pool(threads + 1, init_worker)\n",
    "\n",
    "for i in range(threads):\n",
    "    pool.apply_async(generate_experience_proc, (mem_queue, weight_dict, i, get_enviroment))\n",
    "\n",
    "pool.apply_async(learn_proc, (mem_queue, weight_dict, get_enviroment))\n",
    "\n",
    "pool.close()\n",
    "pool.join()\n"
   ]
  },
  {
   "cell_type": "code",
   "execution_count": null,
   "metadata": {
    "collapsed": true
   },
   "outputs": [],
   "source": []
  },
  {
   "cell_type": "code",
   "execution_count": null,
   "metadata": {
    "collapsed": true
   },
   "outputs": [],
   "source": []
  }
 ],
 "metadata": {
  "kernelspec": {
   "display_name": "Python 3",
   "language": "python",
   "name": "python3"
  },
  "language_info": {
   "codemirror_mode": {
    "name": "ipython",
    "version": 3
   },
   "file_extension": ".py",
   "mimetype": "text/x-python",
   "name": "python",
   "nbconvert_exporter": "python",
   "pygments_lexer": "ipython3",
   "version": "3.6.1"
  }
 },
 "nbformat": 4,
 "nbformat_minor": 2
}

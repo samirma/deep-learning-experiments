{
 "cells": [
  {
   "cell_type": "code",
   "execution_count": null,
   "metadata": {},
   "outputs": [],
   "source": [
    "import os\n",
    "import json\n",
    "import io\n",
    "from data_generator import DataGenerator\n",
    "from trade_env import TraderEnv\n",
    "from blog_ai import A3CAgent\n",
    "from async_rl import *\n",
    "import time\n",
    "import numpy as np\n",
    "from multiprocessing import *\n",
    "from collections import deque"
   ]
  },
  {
   "cell_type": "code",
   "execution_count": null,
   "metadata": {
    "collapsed": true
   },
   "outputs": [],
   "source": [
    "stage_length_var = 10\n",
    "def get_enviroment():\n",
    "    return TraderEnv(DataGenerator(), stage_history_length=stage_length_var)"
   ]
  },
  {
   "cell_type": "code",
   "execution_count": null,
   "metadata": {},
   "outputs": [],
   "source": [
    "game = \"trade\"\n",
    "model_file = 'save_model/model-trade.h5'"
   ]
  },
  {
   "cell_type": "code",
   "execution_count": null,
   "metadata": {},
   "outputs": [],
   "source": [
    "\n",
    "# -----\n",
    "env = get_enviroment()\n",
    "\n",
    "# -----\n",
    "agent = ActingAgent(env)\n",
    "\n",
    "agent.load_net.load_weights(model_file)\n",
    "\n",
    "game = 1\n",
    "for _ in range(2):\n",
    "    done = False\n",
    "    episode_reward = 0\n",
    "    noops = 0\n",
    "    info = \"\"\n",
    "\n",
    "    # init game\n",
    "    observation = env.reset()\n",
    "    agent.init_episode(observation)\n",
    "    # play one game\n",
    "    print('Game #%8d; ' % (game,), end='')\n",
    "    while not done:\n",
    "        env.render()\n",
    "        action = agent.choose_action_from_observation(observation)\n",
    "        observation, reward, done, info = env.step(action)\n",
    "        episode_reward += reward\n",
    "        # ----\n",
    "        if action == 0:\n",
    "            noops += 1\n",
    "        else:\n",
    "            noops = 0\n",
    "        if noops > 100:\n",
    "            break\n",
    "    print('Reward %4d; %s' % (episode_reward,info))\n",
    "    game += 1"
   ]
  },
  {
   "cell_type": "code",
   "execution_count": null,
   "metadata": {},
   "outputs": [],
   "source": [
    "env.total_profite"
   ]
  },
  {
   "cell_type": "code",
   "execution_count": null,
   "metadata": {
    "collapsed": true
   },
   "outputs": [],
   "source": []
  }
 ],
 "metadata": {
  "kernelspec": {
   "display_name": "Python 3",
   "language": "python",
   "name": "python3"
  },
  "language_info": {
   "codemirror_mode": {
    "name": "ipython",
    "version": 3
   },
   "file_extension": ".py",
   "mimetype": "text/x-python",
   "name": "python",
   "nbconvert_exporter": "python",
   "pygments_lexer": "ipython3",
   "version": "3.6.1"
  }
 },
 "nbformat": 4,
 "nbformat_minor": 2
}
